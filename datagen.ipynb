{
 "cells": [
  {
   "cell_type": "markdown",
   "metadata": {},
   "source": [
    "## Librerias"
   ]
  },
  {
   "cell_type": "code",
   "execution_count": 399,
   "metadata": {},
   "outputs": [],
   "source": [
    "from IPython.display import display, Markdown\n",
    "import pandas as pd\n",
    "import random\n",
    "random.seed(42)\n",
    "from datetime import datetime, timedelta\n",
    "from typing import List, Tuple"
   ]
  },
  {
   "cell_type": "code",
   "execution_count": 400,
   "metadata": {},
   "outputs": [
    {
     "name": "stdout",
     "output_type": "stream",
     "text": [
      "Requirement already satisfied: faker in /Users/nacho/opt/anaconda3/envs/coding/lib/python3.8/site-packages (25.1.0)\n",
      "Requirement already satisfied: python-dateutil>=2.4 in /Users/nacho/opt/anaconda3/envs/coding/lib/python3.8/site-packages (from faker) (2.8.2)\n",
      "Requirement already satisfied: six>=1.5 in /Users/nacho/opt/anaconda3/envs/coding/lib/python3.8/site-packages (from python-dateutil>=2.4->faker) (1.16.0)\n"
     ]
    }
   ],
   "source": [
    "!pip install faker\n",
    "import faker\n",
    "fake = faker.Faker()"
   ]
  },
  {
   "cell_type": "code",
   "execution_count": 401,
   "metadata": {},
   "outputs": [
    {
     "name": "stdout",
     "output_type": "stream",
     "text": [
      "Requirement already satisfied: psycopg2-binary in /Users/nacho/opt/anaconda3/envs/coding/lib/python3.8/site-packages (2.9.9)\n",
      "Requirement already satisfied: sqlalchemy in /Users/nacho/opt/anaconda3/envs/coding/lib/python3.8/site-packages (1.4.41)\n",
      "Requirement already satisfied: greenlet!=0.4.17 in /Users/nacho/opt/anaconda3/envs/coding/lib/python3.8/site-packages (from sqlalchemy) (2.0.1)\n"
     ]
    }
   ],
   "source": [
    "!pip install psycopg2-binary\n",
    "!pip install sqlalchemy\n",
    "from sqlalchemy import create_engine, text\n",
    "from sqlalchemy.orm import sessionmaker"
   ]
  },
  {
   "cell_type": "markdown",
   "metadata": {},
   "source": [
    "## Coneccion a la base de datos"
   ]
  },
  {
   "cell_type": "code",
   "execution_count": 402,
   "metadata": {},
   "outputs": [],
   "source": [
    "# Connect to the database and populate with fake data\n",
    "\n",
    "host = \"localhost\"\n",
    "port = 5432\n",
    "user = \"catedra\"\n",
    "password = \"S3cret\"\n",
    "database = \"postgres\"\n",
    "driver = \"postgresql\"\n",
    "\n",
    "pg = create_engine(\"postgresql://{}:{}@{}:{}/{}\".format(user, password, host, port, database))\n",
    "\n",
    "Session = sessionmaker(bind=pg)"
   ]
  },
  {
   "cell_type": "markdown",
   "metadata": {},
   "source": [
    "## Mercadopago.SQL"
   ]
  },
  {
   "cell_type": "markdown",
   "metadata": {},
   "source": [
    "### Correr desde archivo"
   ]
  },
  {
   "cell_type": "code",
   "execution_count": 403,
   "metadata": {},
   "outputs": [],
   "source": [
    "# correr mercadopago.sql\n",
    "with open(\"mercadopago.sql\") as f:\n",
    "    sql = f.read()\n",
    "    pg.execute(text(sql))"
   ]
  },
  {
   "cell_type": "markdown",
   "metadata": {},
   "source": [
    "## Crear datos de prueba"
   ]
  },
  {
   "cell_type": "markdown",
   "metadata": {},
   "source": [
    "### Crear identificadores - DNI, CUIT, CVU/CBU, ALIAS"
   ]
  },
  {
   "cell_type": "code",
   "execution_count": 404,
   "metadata": {},
   "outputs": [
    {
     "data": {
      "text/plain": [
       "'06540182405839318110459'"
      ]
     },
     "metadata": {},
     "output_type": "display_data"
    },
    {
     "data": {
      "text/plain": [
       "'hard.prevent.body'"
      ]
     },
     "metadata": {},
     "output_type": "display_data"
    },
    {
     "data": {
      "text/plain": [
       "'41-39958838-2'"
      ]
     },
     "metadata": {},
     "output_type": "display_data"
    }
   ],
   "source": [
    "def random_dni():\n",
    "    return str(random.randint(10**7, 10**8 - 1))\n",
    "\n",
    "\n",
    "def random_cuit():\n",
    "    return (\n",
    "        str(random.randint(10, 99))\n",
    "        + \"-\"\n",
    "        + random_dni()\n",
    "        + \"-\"\n",
    "        + str(random.randint(0, 9))\n",
    "    )\n",
    "\n",
    "\n",
    "def random_cu():\n",
    "    return (\n",
    "        \"0\"\n",
    "        + str(random.randint(0, 999))\n",
    "        + \"0\"\n",
    "        + str(random.randint(0, 9999))\n",
    "        + str(random.randint(0, 9))\n",
    "        + str(random.randint(10**12, 10**13 - 1))\n",
    "    )\n",
    "\n",
    "\n",
    "def random_alias():\n",
    "    return \".\".join(fake.words(nb=3))\n",
    "\n",
    "\n",
    "cu = random_cu()\n",
    "alias = random_alias()\n",
    "cuit = random_cuit()\n",
    "\n",
    "display(cu, alias, cuit)\n"
   ]
  },
  {
   "cell_type": "markdown",
   "metadata": {},
   "source": [
    "### Crear usuarios de prueba"
   ]
  },
  {
   "cell_type": "code",
   "execution_count": 405,
   "metadata": {},
   "outputs": [
    {
     "data": {
      "text/markdown": [
       "\n",
       "# Usuarios\n",
       "- Jennifer Mason - wardcandice@example.org - kristina42 - BY5MRUgF@_ | 13-22575562-3 - 07540167981560157888921 - their.season.include\n",
       "- John Rojas - rbailey@example.com - renee67 - 44(J1xUb+J | 38-70291817-9 - 02380827998381094320374 - area.look.much\n",
       "\n",
       "# Proveedores de Servicio\n",
       "- nothing.front.little - 0284010628437586875258\n",
       "\n",
       "# Cuentas Bancarias\n",
       "- year.item.full - 02200551417683367452945\n"
      ],
      "text/plain": [
       "<IPython.core.display.Markdown object>"
      ]
     },
     "metadata": {},
     "output_type": "display_data"
    }
   ],
   "source": [
    "def insert_clave_uniforme(\n",
    "        cu: str,\n",
    "        alias: str,\n",
    "        esVirtual: bool\n",
    "    ) -> None:\n",
    "    \"\"\"Inserta una clave uniforme en la base de datos\n",
    "\n",
    "    Args:\n",
    "        cu (str): Clave Uniforme\n",
    "        alias (str): Alias\n",
    "        esVirtual (bool): Es virtual o no\n",
    "    \"\"\"\n",
    "\n",
    "    pg.execute(\"INSERT INTO Clave VALUES (%s, %s, %s)\", (cu, alias, esVirtual))\n",
    "\n",
    "\n",
    "def create_identifiers() -> Tuple[str, str, str]:\n",
    "    \"\"\"Crea identificadores aleatorios\n",
    "\n",
    "    Returns:\n",
    "        Tuple[str, str, str]: CU, Alias, CUIT\n",
    "    \"\"\"\n",
    "\n",
    "    cu = random_cu()\n",
    "    alias = random_alias()\n",
    "    cuit = random_cuit()\n",
    "\n",
    "    return cu, alias, cuit\n",
    "\n",
    "\n",
    "def create_usuario() -> Tuple[str, str, str, str, str, str, str, str]:\n",
    "    \"\"\"Crea un usuario aleatorio\n",
    "\n",
    "    Returns:\n",
    "        Tuple[str, str, str, str, str, str, str, str]: CVU, Alias, CUIT, Email, Nombre, Apellido, Username, Password\n",
    "    \"\"\"\n",
    "\n",
    "    cvu, alias, cuit = create_identifiers()\n",
    "    insert_clave_uniforme(cvu, alias, True)\n",
    "    pg.execute(\n",
    "        \"INSERT INTO Usuario VALUES (%s, %s, %s, %s, %s, %s, %s, %s, %s)\",\n",
    "        (\n",
    "            cvu,\n",
    "            cuit,\n",
    "            (email := fake.email()),\n",
    "            (first_name := fake.first_name()),\n",
    "            (last_name := fake.last_name()),\n",
    "            (user_name := fake.user_name()),\n",
    "            (password := fake.password()),\n",
    "            0,\n",
    "            fake.date_this_century(),\n",
    "        ),\n",
    "    )\n",
    "    return cvu, alias, cuit, email, first_name, last_name, user_name, password\n",
    "\n",
    "\n",
    "def create_cuenta_bancaria() -> Tuple[str, str]:\n",
    "    \"\"\"Crea una cuenta bancaria aleatoria\n",
    "\n",
    "    Returns:\n",
    "        Tuple[str, str]: CU, Alias\n",
    "    \"\"\"\n",
    "    cvu, alias, _ = create_identifiers()\n",
    "    insert_clave_uniforme(cvu, alias, False)\n",
    "    pg.execute(\"INSERT INTO CuentaBancaria VALUES (%s, %s)\", (cvu, fake.company()))\n",
    "    return cvu, alias\n",
    "\n",
    "\n",
    "def create_proveedor_servicio() -> Tuple[str, str]:\n",
    "    \"\"\"Crea un proveedor de servicio aleatorio\n",
    "\n",
    "    Returns:\n",
    "        Tuple[str, str]: CU, Alias\n",
    "    \"\"\"\n",
    "    cvu, alias, _ = create_identifiers()\n",
    "    insert_clave_uniforme(cvu, alias, False)\n",
    "    pg.execute(\n",
    "        \"INSERT INTO ProveedorServicio VALUES (%s, %s, %s, %s)\",\n",
    "        (cvu, fake.company(), fake.word(), fake.date_this_century()),\n",
    "    )\n",
    "    return cvu, alias\n",
    "\n",
    "\n",
    "def add_tarjeta(\n",
    "        cvu : str,\n",
    "        number : str,\n",
    "        cvv : str,\n",
    "        vencimiento : str\n",
    "    ):\n",
    "    \"\"\"Agrega una tarjeta a la base de datos\n",
    "\n",
    "    Args:\n",
    "        cvu (str): CVU del usuario al que pertenece la tarjeta\n",
    "        number (str): Número de tarjeta\n",
    "        cvv (str): CVV\n",
    "        vencimiento (str): Fecha de vencimiento\n",
    "    \"\"\"\n",
    "\n",
    "    pg.execute(\n",
    "        \"INSERT INTO Tarjeta VALUES (%s, %s, %s, %s)\", (number, vencimiento, cvv, cvu)\n",
    "    )\n",
    "\n",
    "\n",
    "def create_tarjeta(cvu : str) -> Tuple[str, str, str]:\n",
    "    \"\"\"Crea una tarjeta aleatoria\n",
    "\n",
    "    Args:\n",
    "        cvu (str): CVU del usuario al que pertenece la tarjeta\n",
    "\n",
    "    Returns:\n",
    "        Tuple[str, str, str]: Número, CVV, Vencimiento\n",
    "    \"\"\"\n",
    "    \n",
    "    add_tarjeta(\n",
    "        cvu,\n",
    "        (num := fake.credit_card_number()),\n",
    "        (cvv := fake.credit_card_security_code()),\n",
    "        (vencimiento := str(fake.date_between(start_date=\"-1y\", end_date=\"+1y\"))),\n",
    "    )\n",
    "    return num, cvv, vencimiento\n",
    "\n",
    "\n",
    "cvu1, alias1, cuit1, email1, first_name1, last_name1, user_name1, password1 = create_usuario()\n",
    "cvu2, alias2, cuit2, email2, first_name2, last_name2, user_name2, password2 = create_usuario()\n",
    "\n",
    "cvu_serv1, alias_serv1 = create_proveedor_servicio()\n",
    "cvu_cuenta1, alias_cuenta1 = create_cuenta_bancaria()\n",
    "\n",
    "display(\n",
    "    Markdown(\n",
    "        f\"\"\"\n",
    "# Usuarios\n",
    "- {first_name1} {last_name1} - {email1} - {user_name1} - {password1} | {cuit1} - {cvu1} - {alias1}\n",
    "- {first_name2} {last_name2} - {email2} - {user_name2} - {password2} | {cuit2} - {cvu2} - {alias2}\n",
    "\n",
    "# Proveedores de Servicio\n",
    "- {alias_serv1} - {cvu_serv1}\n",
    "\n",
    "# Cuentas Bancarias\n",
    "- {alias_cuenta1} - {cvu_cuenta1}\n",
    "\"\"\"\n",
    "    )\n",
    "\n",
    ")"
   ]
  },
  {
   "cell_type": "code",
   "execution_count": 406,
   "metadata": {},
   "outputs": [
    {
     "data": {
      "text/plain": [
       "('2299836556547555', '696', '2025-01-23')"
      ]
     },
     "execution_count": 406,
     "metadata": {},
     "output_type": "execute_result"
    }
   ],
   "source": [
    "num_tar1, cvv_tar1, venc_tar1 = create_tarjeta(cvu1)\n",
    "num_tar1, cvv_tar1, venc_tar1"
   ]
  },
  {
   "cell_type": "markdown",
   "metadata": {},
   "source": [
    "### Probar hacer una transacción entre 2 usuarios uno sin saldo"
   ]
  },
  {
   "cell_type": "code",
   "execution_count": 407,
   "metadata": {},
   "outputs": [],
   "source": [
    "# Try to insert a transaction without enough balance\n",
    "\n",
    "try:\n",
    "    pg.execute(\n",
    "        \"\"\"INSERT INTO Transaccion (CU_Origen, CU_Destino, monto, fecha, descripcion, estado, es_con_tarjeta, numero, interes)\n",
    "            VALUES (%s, %s, %s, %s, %s, %s, %s, %s, %s)\"\"\",\n",
    "        (\n",
    "            cvu1,\n",
    "            cvu2,\n",
    "            100,\n",
    "            fake.date_this_century(),\n",
    "            \"Transferencia\",\n",
    "            \"Pendiente\",\n",
    "            False,\n",
    "            None,\n",
    "            0,\n",
    "        ),\n",
    "    )\n",
    "    \n",
    "except Exception as e:\n",
    "    if \"Not enough balance\" in str(e):\n",
    "        display(Markdown(\"## Not enough balance\"))"
   ]
  },
  {
   "cell_type": "markdown",
   "metadata": {},
   "source": [
    "### Función para hacer la transacción debitada de un usuario"
   ]
  },
  {
   "cell_type": "code",
   "execution_count": 408,
   "metadata": {},
   "outputs": [
    {
     "name": "stderr",
     "output_type": "stream",
     "text": [
      "<>:37: SyntaxWarning: \"is\" with a literal. Did you mean \"==\"?\n",
      "<>:42: SyntaxWarning: \"is\" with a literal. Did you mean \"==\"?\n",
      "<>:59: SyntaxWarning: \"is not\" with a literal. Did you mean \"!=\"?\n",
      "<>:37: SyntaxWarning: \"is\" with a literal. Did you mean \"==\"?\n",
      "<>:42: SyntaxWarning: \"is\" with a literal. Did you mean \"==\"?\n",
      "<>:59: SyntaxWarning: \"is not\" with a literal. Did you mean \"!=\"?\n",
      "/var/folders/5j/7b3w3dw95qdcll87vxc3yn300000gn/T/ipykernel_28845/2531978323.py:37: SyntaxWarning: \"is\" with a literal. Did you mean \"==\"?\n",
      "  if (sender_alias != \"\" and sender_cu is \"\"):\n",
      "/var/folders/5j/7b3w3dw95qdcll87vxc3yn300000gn/T/ipykernel_28845/2531978323.py:42: SyntaxWarning: \"is\" with a literal. Did you mean \"==\"?\n",
      "  if (reciever_alias != \"\" and reciever_cu is \"\"):\n",
      "/var/folders/5j/7b3w3dw95qdcll87vxc3yn300000gn/T/ipykernel_28845/2531978323.py:59: SyntaxWarning: \"is not\" with a literal. Did you mean \"!=\"?\n",
      "  card_number is not \"\",\n"
     ]
    }
   ],
   "source": [
    "def create_transaction_between_users(\n",
    "    amount: float,\n",
    "    description: str,\n",
    "    sender_cu: str = \"\",\n",
    "    reciever_cu: str = \"\",\n",
    "    sender_alias: str = \"\",\n",
    "    reciever_alias: str = \"\",\n",
    "    card_number: str = \"\",\n",
    "    fecha : datetime = datetime.now(),\n",
    ") -> int:\n",
    "    \"\"\"Debita una cantidad de dinero de un usuario y la transfiere a otro\n",
    "\n",
    "    Args:\n",
    "        sender (str): CVU del usuario que envía el dinero\n",
    "        reciever (str): CVU del usuario que recibe el dinero\n",
    "        amount (float): Cantidad de dinero\n",
    "        description (str): Descripción de la transacción\n",
    "\n",
    "    Returns:\n",
    "        int: Código de la transacción\n",
    "    \"\"\"\n",
    "\n",
    "    if not (sender_cu or sender_alias):\n",
    "        raise Exception(\"Invalid Sender - No CU or Alias\")\n",
    "\n",
    "    if not (reciever_cu or reciever_alias):\n",
    "        raise Exception(\"Invalid Reciever - No CU or Alias\")\n",
    "\n",
    "    if (sender_cu != \"\"):\n",
    "        # Check if sender exists\n",
    "        if not pg.execute(\"SELECT clave_uniforme FROM Usuario WHERE clave_uniforme = %s\", (sender_cu,)).fetchone():\n",
    "            raise Exception(\"Invalid Sender - Not Found\")\n",
    "        # Check if the sender is virtual\n",
    "        if not pg.execute(\"SELECT esVirtual FROM Clave WHERE clave_uniforme = %s\", (sender_cu,)).fetchone()[0]:\n",
    "            raise Exception(\"Invalid Sender - Not Virtual\")\n",
    "\n",
    "    if (sender_alias != \"\" and sender_cu is \"\"):\n",
    "        sender_cu = pg.execute(\"SELECT clave_uniforme FROM Clave WHERE alias = %s\", (sender_alias,)).fetchone()[0]\n",
    "        if not sender_cu:\n",
    "            raise Exception(\"Invalid Sender - Alias not found\")\n",
    "\n",
    "    if (reciever_alias != \"\" and reciever_cu is \"\"):\n",
    "        reciever_cu = pg.execute(\"SELECT clave_uniforme FROM Clave WHERE alias = %s\", (reciever_alias,)).fetchone()[0]\n",
    "        if not reciever_cu:\n",
    "            raise Exception(\"Invalid Reciever - Alias not found\")\n",
    "\n",
    "    pg.execute(\n",
    "        \"\"\"INSERT INTO Transaccion (CU_Origen, CU_Destino, monto, fecha, descripcion, estado, es_con_tarjeta, numero, interes)\n",
    "        VALUES (%s, %s, %s, %s, %s, %s, %s, %s, %s)\"\"\",\n",
    "        (\n",
    "            sender_cu,\n",
    "            reciever_cu,\n",
    "            amount,\n",
    "            fecha,\n",
    "            description,\n",
    "            \"Rechazada\" \n",
    "                if pg.execute(\"SELECT saldo FROM Usuario WHERE clave_uniforme = %s\", (sender_cu,)).fetchone()[0] < amount \n",
    "                else \"Pendiente\",\n",
    "            card_number is not \"\",\n",
    "            None if card_number == \"\" else card_number,\n",
    "            None if card_number == \"\" else random.randint(5, 10),\n",
    "        ),\n",
    "    )\n",
    "\n",
    "    # El siguiente código se ejecuta directamente como un trigger en la base de datos\n",
    "\n",
    "    # pg.execute(\n",
    "    #     \"UPDATE Usuario SET saldo = saldo - %s WHERE clave_uniforme = %s\",\n",
    "    #     (amount, sender),\n",
    "    # )\n",
    "\n",
    "    # pg.execute(\n",
    "    #     \"UPDATE Usuario SET saldo = saldo + %s WHERE clave_uniforme = %s\",\n",
    "    #     (amount, reciever),\n",
    "    # )\n",
    "\n",
    "    return pg.execute(\"SELECT codigo FROM Transaccion ORDER BY codigo DESC LIMIT 1\").fetchone()[0]"
   ]
  },
  {
   "cell_type": "code",
   "execution_count": 409,
   "metadata": {},
   "outputs": [],
   "source": [
    "# Try again to insert a transaction without enough balance\n",
    "\n",
    "try:\n",
    "    create_transaction_between_users(\n",
    "        100, \"Transferencia\", sender_cu=cvu1, reciever_cu=cvu2\n",
    "    )\n",
    "except Exception as e:\n",
    "    if \"Not enough balance\" in str(e):\n",
    "        display(Markdown(\"## Not enough balance\"))"
   ]
  },
  {
   "cell_type": "markdown",
   "metadata": {},
   "source": [
    "### Depositar dinero en una cuenta desde una cuenta de bancaria"
   ]
  },
  {
   "cell_type": "code",
   "execution_count": 410,
   "metadata": {},
   "outputs": [],
   "source": [
    "def create_transaccion_deposit(\n",
    "    user: str,\n",
    "    cbu_cuenta_bancaria: str,\n",
    "    amount: float,\n",
    "    description: str,\n",
    "    fecha: datetime = datetime.now(),\n",
    ") -> Tuple[str, float]:\n",
    "    \"\"\"Deposita dinero en la cuenta de un usuario\n",
    "\n",
    "    Args:\n",
    "        user (str): CVU del usuario\n",
    "        amount (float): Cantidad de dinero\n",
    "        description (str): Descripción de la transacción\n",
    "\n",
    "    Returns:\n",
    "        Tuple[str, float]: Código de la transacción, Saldo final\n",
    "    \"\"\"\n",
    "\n",
    "    pg.execute(\n",
    "        \"\"\"INSERT INTO Transaccion (CU_Origen, CU_Destino, monto, fecha, descripcion, estado, es_con_tarjeta, numero, interes)\n",
    "        VALUES (%s, %s, %s, %s, %s, %s, %s, %s, %s)\"\"\",\n",
    "        (\n",
    "            cbu_cuenta_bancaria,\n",
    "            user,\n",
    "            amount,\n",
    "            fecha,\n",
    "            description,\n",
    "            \"Completada\",\n",
    "            False,\n",
    "            None,\n",
    "            None,\n",
    "        ),\n",
    "    )\n",
    "\n",
    "    # El siguiente código se ejecuta directamente como un trigger en la base de datos\n",
    "\n",
    "    # pg.execute(\n",
    "    #     \"UPDATE Usuario SET saldo = saldo + %s WHERE clave_uniforme = %s\",\n",
    "    #     (amount, user),\n",
    "    # )\n",
    "\n",
    "    return (\n",
    "        str(\n",
    "            pg.execute(\n",
    "                \"SELECT codigo FROM Transaccion ORDER BY codigo DESC LIMIT 1\"\n",
    "            ).fetchone()[0]\n",
    "        ),\n",
    "        float(\n",
    "            pg.execute(\n",
    "                \"SELECT saldo FROM Usuario WHERE clave_uniforme = %s\", (user,)\n",
    "            ).fetchone()[0]\n",
    "        ),\n",
    "    )"
   ]
  },
  {
   "cell_type": "code",
   "execution_count": 411,
   "metadata": {},
   "outputs": [
    {
     "data": {
      "text/markdown": [
       "## Transacción de depósito\n",
       "- Código: 3\n",
       "- Saldo final: 1000.0"
      ],
      "text/plain": [
       "<IPython.core.display.Markdown object>"
      ]
     },
     "metadata": {},
     "output_type": "display_data"
    }
   ],
   "source": [
    "codigo_transaccion, saldo_final = create_transaccion_deposit(\n",
    "    cvu1, cvu_cuenta1, 1000, \"Depósito\"\n",
    ")\n",
    "\n",
    "display(\n",
    "    Markdown(\n",
    "        f\"## Transacción de depósito\\n- Código: {codigo_transaccion}\\n- Saldo final: {saldo_final}\"\n",
    "    )\n",
    ")"
   ]
  },
  {
   "cell_type": "markdown",
   "metadata": {},
   "source": [
    "### Transferir dinero entre dos cuentas ahora si con saldo"
   ]
  },
  {
   "cell_type": "code",
   "execution_count": 412,
   "metadata": {},
   "outputs": [
    {
     "data": {
      "text/markdown": [
       "## Transacción de transferencia\n",
       "- Código: 4"
      ],
      "text/plain": [
       "<IPython.core.display.Markdown object>"
      ]
     },
     "metadata": {},
     "output_type": "display_data"
    },
    {
     "data": {
      "text/plain": [
       "(4, '07540167981560157888921', '02380827998381094320374', 100.0, datetime.date(2024, 5, 10), 'Transferencia', 'Completada', False, None, None)"
      ]
     },
     "execution_count": 412,
     "metadata": {},
     "output_type": "execute_result"
    }
   ],
   "source": [
    "# Transfer money from user 1 to user 2 now that user 1 has enough balance\n",
    "\n",
    "codigo_transaccion = create_transaction_between_users(\n",
    "    100, \"Transferencia\", sender_cu=cvu1, reciever_cu=cvu2\n",
    ")\n",
    "\n",
    "display(Markdown(f\"## Transacción de transferencia\\n- Código: {codigo_transaccion}\"))\n",
    "\n",
    "# Buscar transacciones y mostrar\n",
    "\n",
    "pg.execute(\"SELECT * FROM Transaccion WHERE codigo = %s\", (codigo_transaccion,)).fetchone()"
   ]
  },
  {
   "cell_type": "code",
   "execution_count": 413,
   "metadata": {},
   "outputs": [
    {
     "data": {
      "text/markdown": [
       "## Nombres de servicios\n",
       "- Aguilar-Hernandez"
      ],
      "text/plain": [
       "<IPython.core.display.Markdown object>"
      ]
     },
     "metadata": {},
     "output_type": "display_data"
    },
    {
     "data": {
      "text/markdown": [
       "## Nombre de servicio aleatorio\n",
       "- Aguilar-Hernandez"
      ],
      "text/plain": [
       "<IPython.core.display.Markdown object>"
      ]
     },
     "metadata": {},
     "output_type": "display_data"
    }
   ],
   "source": [
    "# Listar nombres de Servicios\n",
    "\n",
    "nombres = pg.execute(\"SELECT nombre_empresa FROM ProveedorServicio\").fetchall()\n",
    "\n",
    "display(Markdown(f\"## Nombres de servicios\\n- {', '.join([n[0] for n in nombres])}\"))\n",
    "\n",
    "sample_nombre = random.choice(nombres)[0]\n",
    "\n",
    "display(Markdown(f\"## Nombre de servicio aleatorio\\n- {sample_nombre}\"))"
   ]
  },
  {
   "cell_type": "code",
   "execution_count": 414,
   "metadata": {},
   "outputs": [
    {
     "data": {
      "text/plain": [
       "('5', 900.0)"
      ]
     },
     "execution_count": 414,
     "metadata": {},
     "output_type": "execute_result"
    }
   ],
   "source": [
    "# Pagar un servicio\n",
    "\n",
    "\n",
    "def create_transaccion_pay_service(\n",
    "    user: str,\n",
    "    service_name: str,\n",
    "    amount: float,\n",
    "    description: str,\n",
    "    fecha: datetime = datetime.now(),\n",
    ") -> Tuple[str, float]:\n",
    "    \"\"\"Paga un servicio\n",
    "\n",
    "    Args:\n",
    "        user (str): CVU del usuario\n",
    "        service_name (str): Nombre del servicio\n",
    "        amount (float): Cantidad de dinero\n",
    "        description (str): Descripción de la transacción\n",
    "    \n",
    "    Returns:\n",
    "        Tuple[str, float]: Código de la transacción, Saldo final\n",
    "    \"\"\"\n",
    "\n",
    "    # Check for balance first\n",
    "    if pg.execute(\"SELECT saldo FROM Usuario WHERE clave_uniforme = %s\", (user,)).fetchone()[0] < amount:\n",
    "        raise Exception(\"Not enough balance\")\n",
    "\n",
    "    # Hallar el cbu del servicio por su nombre\n",
    "    cbu_servicio = pg.execute(\n",
    "        \"SELECT clave_uniforme FROM ProveedorServicio WHERE nombre_empresa = %s\",\n",
    "        (service_name,),\n",
    "    ).fetchone()[0]\n",
    "\n",
    "    pg.execute(\n",
    "        \"\"\"INSERT INTO Transaccion (CU_Origen, CU_Destino, monto, fecha, descripcion, estado, es_con_tarjeta, numero, interes)\n",
    "        VALUES (%s, %s, %s, %s, %s, %s, %s, %s, %s)\"\"\",\n",
    "        (\n",
    "            user,\n",
    "            cbu_servicio,\n",
    "            amount,\n",
    "            fecha,\n",
    "            description,\n",
    "            \"Pendiente\",\n",
    "            False,\n",
    "            None,\n",
    "            None,\n",
    "        ),\n",
    "    )\n",
    "\n",
    "    pg.execute(\n",
    "        \"UPDATE Usuario SET saldo = saldo - %s WHERE clave_uniforme = %s\",\n",
    "        (amount, user),\n",
    "    )\n",
    "\n",
    "    return (\n",
    "        str(\n",
    "            pg.execute(\n",
    "                \"SELECT codigo FROM Transaccion ORDER BY codigo DESC LIMIT 1\"\n",
    "            ).fetchone()[0]\n",
    "        ),\n",
    "        float(\n",
    "            pg.execute(\n",
    "                \"SELECT saldo FROM Usuario WHERE clave_uniforme = %s\", (user,)\n",
    "            ).fetchone()[0]\n",
    "        ),\n",
    "    )\n",
    "\n",
    "\n",
    "create_transaccion_pay_service(cvu1, sample_nombre, 100, \"Pago de servicio\")"
   ]
  },
  {
   "cell_type": "code",
   "execution_count": 415,
   "metadata": {},
   "outputs": [],
   "source": [
    "# Invertir plata en la fecha y generar rendimientos a futuro\n",
    "\n",
    "\n",
    "def comenzar_inversion(\n",
    "    cvu : str,\n",
    "    comienzo_plazo : datetime = datetime.now(),\n",
    "):  \n",
    "    \"\"\"\n",
    "    CREATE TABLE Rendimiento (\n",
    "        id SERIAL PRIMARY KEY,\n",
    "        fecha_pago DATE,\n",
    "        comienzo_plazo DATE NOT NULL,\n",
    "        fin_plazo DATE,\n",
    "        TNA FLOAT,\n",
    "        monto FLOAT\n",
    "    );\n",
    "    \"\"\"\n",
    "    # Se pone a invertir el monto total del usuario\n",
    "    # La fecha del comienzo del plazo es ahora,\n",
    "    # El fin del plazo es en 1 dia\n",
    "    # La fecha de pago es el próximo dia hábil\n",
    "    # La tna es entre 60 y 80\n",
    "    # El monto es el saldo del usuario\n",
    "\n",
    "    # Solo se puede tener un rendimiento en un comienzo de plazo dado\n",
    "    # Si ya hay un rendimiento activo y se va a generar otro, se debe finalizar el anterior\n",
    "\n",
    "    # Hallar el saldo del usuario\n",
    "    saldo = pg.execute(\n",
    "        \"SELECT saldo FROM Usuario WHERE clave_uniforme = %s\", (cvu,)\n",
    "    ).fetchone()[0]\n",
    "\n",
    "    # Hallar si hay un rendimiento activo\n",
    "    rendimiento_activo = pg.execute(\n",
    "        \"SELECT * FROM Rendimiento WHERE comienzo_plazo = CURRENT_DATE\"\n",
    "    ).fetchone()\n",
    "\n",
    "    if rendimiento_activo:\n",
    "        # Finalizar el rendimiento activo\n",
    "        pg.execute(\n",
    "            \"UPDATE Rendimiento SET fin_plazo = CURRENT_DATE WHERE id = %s\",\n",
    "            (rendimiento_activo[0],),\n",
    "        )\n",
    "\n",
    "    # Generar un nuevo rendimiento\n",
    "    tna = random.uniform(60, 80)\n",
    "    monto = saldo\n",
    "    fin_plazo = datetime.now() + timedelta(days=1)\n",
    "\n",
    "    pg.execute(\n",
    "        \"\"\"INSERT INTO Rendimiento (comienzo_plazo, fin_plazo, TNA, monto)\n",
    "        VALUES (%s, %s, %s, %s)\"\"\",\n",
    "        (\n",
    "            comienzo_plazo,\n",
    "            fin_plazo,\n",
    "            tna,\n",
    "            monto,\n",
    "        ),\n",
    "    )\n",
    "\n",
    "    # Asociar el rendimiento al usuario\n",
    "    rendimiento_id = pg.execute(\n",
    "        \"SELECT id FROM Rendimiento ORDER BY id DESC LIMIT 1\"\n",
    "    ).fetchone()[0]\n",
    "\n",
    "    pg.execute(\n",
    "        \"INSERT INTO RendimientoUsuario VALUES (%s, %s)\",\n",
    "        (cvu, rendimiento_id),\n",
    "    )\n",
    "\n",
    "    return rendimiento_id\n",
    "\n",
    "def pagar_rendimientos_activos_usuario(\n",
    "    cvu : str\n",
    ") -> List:\n",
    "    \"\"\"\n",
    "    Paga los rendimientos de un usuario\n",
    "\n",
    "    Args:\n",
    "        cvu (str): Clave uniforme del usuario\n",
    "\n",
    "    Returns:\n",
    "        List: Lista de los montos pagados\n",
    "    \"\"\"\n",
    "\n",
    "    # Hallar los rendimientos no pagados del usuario, es decir sin fecha de pago\n",
    "    # JOIN con Rendimiento para hallar los datos del rendimiento\n",
    "\n",
    "    rendimientos = pg.execute(\n",
    "        \"\"\"SELECT Rendimiento.id, fecha_pago, comienzo_plazo, fin_plazo, TNA, monto\n",
    "        FROM RendimientoUsuario\n",
    "        JOIN Rendimiento ON RendimientoUsuario.id = Rendimiento.id\n",
    "        WHERE clave_uniforme = %s AND pago IS FALSE\"\"\",\n",
    "        (cvu,),\n",
    "    ).fetchall()\n",
    "\n",
    "    for rendimiento in rendimientos:\n",
    "        # Pagar el rendimiento\n",
    "        updated = pg.execute(\n",
    "            \"\"\"\n",
    "            UPDATE Rendimiento \n",
    "            SET fecha_pago = CURRENT_DATE WHERE id = %s\n",
    "            RETURNING id, fecha_pago, comienzo_plazo, fin_plazo, TNA, monto\n",
    "            \"\"\",\n",
    "            (rendimiento[0],),\n",
    "        ).fetchone()\n",
    "\n",
    "        # Añadir el rendimiento generado al saldo del usuario\n",
    "        # El rendimiento es el monto * (1 + TNA / 100) * (fin_plazo - comienzo_plazo) / 365\n",
    "\n",
    "        # rendimiento_generado = rendimiento[5] * (1 + rendimiento[4] / 100) * (rendimiento[3] - rendimiento[2]).days / 365\n",
    "        rendimiento_generado = rendimiento[5]\n",
    "        rendimiento_generado *= 1 + rendimiento[4] / 100\n",
    "        rendimiento_generado *= (rendimiento[3] - rendimiento[2]).days / 365\n",
    "\n",
    "        pg.execute(\n",
    "            \"UPDATE Usuario SET saldo = saldo + %s WHERE clave_uniforme = %s\",\n",
    "            (rendimiento_generado, cvu),  \n",
    "        )\n",
    "\n",
    "    if not rendimientos:\n",
    "        return []\n",
    "\n",
    "    # Refetch los rendimientos para mostrar by r[0] for r in rendimientos\n",
    "    updated_rendimientos = pg.execute(\n",
    "        \"\"\"SELECT Rendimiento.id, fecha_pago, comienzo_plazo, fin_plazo, TNA, monto\n",
    "        FROM RendimientoUsuario\n",
    "        JOIN Rendimiento ON RendimientoUsuario.id = Rendimiento.id\n",
    "        WHERE clave_uniforme = %s AND Rendimiento.id IN %s\"\"\",\n",
    "        (cvu, tuple([r[0] for r in rendimientos])),\n",
    "    ).fetchall()\n",
    "\n",
    "    return updated_rendimientos"
   ]
  },
  {
   "cell_type": "code",
   "execution_count": 416,
   "metadata": {},
   "outputs": [
    {
     "data": {
      "text/markdown": [
       "## Rendimiento comenzado\n",
       "- ID: 1"
      ],
      "text/plain": [
       "<IPython.core.display.Markdown object>"
      ]
     },
     "metadata": {},
     "output_type": "display_data"
    },
    {
     "data": {
      "text/markdown": [
       "## Rendimientos pagados\n",
       "- ID: 1\n",
       "- Fecha de pago: 2024-05-11\n",
       "- Comienzo del plazo: 2024-05-10\n",
       "- Fin del plazo: 2024-05-11\n",
       "- TNA: 76.1425654654876\n",
       "- Monto Invertido: 900.0\n",
       "- Monto Pagado: 4.3432413402449\n"
      ],
      "text/plain": [
       "<IPython.core.display.Markdown object>"
      ]
     },
     "metadata": {},
     "output_type": "display_data"
    }
   ],
   "source": [
    "rendimiento_id = comenzar_inversion(cvu1)\n",
    "\n",
    "display(Markdown(f\"## Rendimiento comenzado\\n- ID: {rendimiento_id}\"))\n",
    "\n",
    "rendimientos = pagar_rendimientos_activos_usuario(cvu1)\n",
    "\n",
    "display(\n",
    "    Markdown(\"## Rendimientos pagados\" + \"\\n\".join([f\"\"\"\n",
    "- ID: {r[0]}\n",
    "- Fecha de pago: {r[1]}\n",
    "- Comienzo del plazo: {r[2]}\n",
    "- Fin del plazo: {r[3]}\n",
    "- TNA: {r[4]}\n",
    "- Monto Invertido: {r[5]}\n",
    "- Monto Pagado: {r[5] * (1 + r[4] / 100) * (r[3] - r[2]).days / 365}\n",
    "\"\"\" for r in rendimientos])\n",
    "    )\n",
    ")"
   ]
  },
  {
   "cell_type": "code",
   "execution_count": 417,
   "metadata": {},
   "outputs": [
    {
     "data": {
      "text/plain": [
       "0.0"
      ]
     },
     "metadata": {},
     "output_type": "display_data"
    },
    {
     "data": {
      "text/plain": [
       "1000.0"
      ]
     },
     "metadata": {},
     "output_type": "display_data"
    },
    {
     "data": {
      "text/plain": [
       "[(2, None, datetime.date(2024, 5, 10), datetime.date(2024, 5, 11), 76.5880932850599, 1000.0)]"
      ]
     },
     "metadata": {},
     "output_type": "display_data"
    }
   ],
   "source": [
    "# Crear un nuevo usuario 3\n",
    "# depositar 1000,\n",
    "# comenzar un rendimiento\n",
    "# interrumpirlo transfiriendole 500 al usuario 1 (Agregar un trigger para que cuando se cree una transacción, si el usuario tiene un rendimiento activo, se finalice y se cree uno nuevo con el monto restante pero que no se pague)\n",
    "# continuar el rendimiento y pagar los rendimientos\n",
    "\n",
    "# TLDR; Hacer una transferencia con un rendimiento activo y ver que pasa\n",
    "\n",
    "\n",
    "cvu3, alias3, cuit3, email3, first_name3, last_name3, user_name3, password3 = create_usuario()\n",
    "\n",
    "# Mostrar saldo cvu3\n",
    "display(pg.execute(\"SELECT saldo FROM Usuario WHERE clave_uniforme = %s\", (cvu3,)).fetchone()[0])\n",
    "\n",
    "create_transaccion_deposit(cvu3, cvu_cuenta1, 1000, \"Depósito\")\n",
    "\n",
    "# Mostrar saldo cvu3 después del depósito\n",
    "display(pg.execute(\"SELECT saldo FROM Usuario WHERE clave_uniforme = %s\", (cvu3,)).fetchone()[0])\n",
    "\n",
    "rendimiento_id = comenzar_inversion(cvu3)\n",
    "\n",
    "display(\n",
    "    pg.execute(\n",
    "        \"\"\"SELECT Rendimiento.id, fecha_pago, comienzo_plazo, fin_plazo, TNA, monto\n",
    "    FROM RendimientoUsuario\n",
    "    JOIN Rendimiento ON RendimientoUsuario.id = Rendimiento.id\n",
    "    WHERE clave_uniforme = %s\"\"\",\n",
    "        (cvu3,),\n",
    "    ).fetchall()\n",
    ")\n"
   ]
  },
  {
   "cell_type": "code",
   "execution_count": 418,
   "metadata": {},
   "outputs": [
    {
     "data": {
      "text/plain": [
       "[(2, None, datetime.date(2024, 5, 10), datetime.date(2024, 5, 11), 76.5880932850599, 1000.0)]"
      ]
     },
     "metadata": {},
     "output_type": "display_data"
    }
   ],
   "source": [
    "# Checkear si el usuario tiene un rendimiento activo, es decir fecha de fin_plazo es posterior a la fecha de la transaccion\n",
    "# Joinear RendimientoUsuario con Rendimiento para obtener el id del rendimiento activo\n",
    "display(\n",
    "    pg.execute(\n",
    "        \"\"\"\n",
    "        SELECT Rendimiento.id, fecha_pago, comienzo_plazo, fin_plazo, TNA, monto\n",
    "        FROM RendimientoUsuario \n",
    "        JOIN Rendimiento ON RendimientoUsuario.id = Rendimiento.id \n",
    "        WHERE clave_uniforme = %s -- AND fin_plazo > (SELECT fecha FROM Transaccion WHERE CU_Origen = %s ORDER BY fecha DESC LIMIT 1)\n",
    "        \"\"\",\n",
    "        (cvu3, cvu3),\n",
    "    ).fetchall()\n",
    ")"
   ]
  },
  {
   "cell_type": "code",
   "execution_count": 419,
   "metadata": {},
   "outputs": [
    {
     "data": {
      "text/plain": [
       "1000.0"
      ]
     },
     "metadata": {},
     "output_type": "display_data"
    }
   ],
   "source": [
    "create_transaction_between_users(500, \"Transferencia\", sender_cu=cvu3, reciever_cu=cvu1)\n",
    "# Mostrar saldo cvu3 después de la transferencia\n",
    "display(\n",
    "    pg.execute(\n",
    "        \"SELECT saldo FROM Usuario WHERE clave_uniforme = %s\", (cvu3,)\n",
    "    ).fetchone()[0]\n",
    ")"
   ]
  },
  {
   "cell_type": "code",
   "execution_count": 420,
   "metadata": {},
   "outputs": [
    {
     "data": {
      "text/plain": [
       "[(2, None, datetime.date(2024, 5, 10), datetime.date(2024, 5, 11), 76.5880932850599, 1000.0),\n",
       " (3, None, datetime.date(2024, 5, 10), datetime.date(2024, 5, 11), 76.5880932850599, 500.0)]"
      ]
     },
     "metadata": {},
     "output_type": "display_data"
    }
   ],
   "source": [
    "display(\n",
    "    pg.execute(\n",
    "        \"\"\"\n",
    "        SELECT Rendimiento.id, fecha_pago, comienzo_plazo, fin_plazo, TNA, monto\n",
    "        FROM RendimientoUsuario \n",
    "        JOIN Rendimiento ON RendimientoUsuario.id = Rendimiento.id \n",
    "        WHERE clave_uniforme = %s\n",
    "        \"\"\",\n",
    "        (cvu3,),\n",
    "    ).fetchall()\n",
    ")"
   ]
  },
  {
   "cell_type": "code",
   "execution_count": 421,
   "metadata": {},
   "outputs": [
    {
     "data": {
      "text/plain": [
       "1007.2570449295231"
      ]
     },
     "metadata": {},
     "output_type": "display_data"
    },
    {
     "data": {
      "text/markdown": [
       "## Rendimientos pagados\n",
       "- ID: 2\n",
       "- Fecha de pago: 2024-05-11\n",
       "- Comienzo del plazo: 2024-05-10\n",
       "- Fin del plazo: 2024-05-11\n",
       "- TNA: 76.5880932850599\n",
       "- Monto Invertido: 1000.0\n",
       "- Monto Pagado: 4.83802995301534\n",
       "\n",
       "\n",
       "- ID: 3\n",
       "- Fecha de pago: 2024-05-11\n",
       "- Comienzo del plazo: 2024-05-10\n",
       "- Fin del plazo: 2024-05-11\n",
       "- TNA: 76.5880932850599\n",
       "- Monto Invertido: 500.0\n",
       "- Monto Pagado: 2.41901497650767\n"
      ],
      "text/plain": [
       "<IPython.core.display.Markdown object>"
      ]
     },
     "metadata": {},
     "output_type": "display_data"
    }
   ],
   "source": [
    "rendimientos = pagar_rendimientos_activos_usuario(cvu3)\n",
    "# Mostrar saldo cvu3 después de pagar los rendimientos\n",
    "display(\n",
    "    pg.execute(\n",
    "        \"SELECT saldo FROM Usuario WHERE clave_uniforme = %s\", (cvu3,)\n",
    "    ).fetchone()[0]\n",
    ")\n",
    "\n",
    "display(\n",
    "    Markdown(\n",
    "        \"## Rendimientos pagados\"\n",
    "        + \"\\n\".join(\n",
    "            [\n",
    "                f\"\"\"\n",
    "- ID: {r[0]}\n",
    "- Fecha de pago: {r[1]}\n",
    "- Comienzo del plazo: {r[2]}\n",
    "- Fin del plazo: {r[3]}\n",
    "- TNA: {r[4]}\n",
    "- Monto Invertido: {r[5]}\n",
    "- Monto Pagado: {r[5] * (1 + r[4] / 100) * (r[3] - r[2]).days / 365}\n",
    "\"\"\"\n",
    "                for r in rendimientos\n",
    "            ]\n",
    "        )\n",
    "    )\n",
    ")"
   ]
  },
  {
   "cell_type": "code",
   "execution_count": 422,
   "metadata": {},
   "outputs": [
    {
     "data": {
      "text/plain": [
       "[(2, datetime.date(2024, 5, 11), datetime.date(2024, 5, 10), datetime.date(2024, 5, 11), 76.5880932850599, 1000.0),\n",
       " (3, datetime.date(2024, 5, 11), datetime.date(2024, 5, 10), datetime.date(2024, 5, 11), 76.5880932850599, 500.0)]"
      ]
     },
     "execution_count": 422,
     "metadata": {},
     "output_type": "execute_result"
    }
   ],
   "source": [
    "pg.execute(\n",
    "    \"\"\"SELECT Rendimiento.id, fecha_pago, comienzo_plazo, fin_plazo, TNA, monto\n",
    "    FROM RendimientoUsuario\n",
    "    JOIN Rendimiento ON RendimientoUsuario.id = Rendimiento.id\n",
    "    WHERE clave_uniforme = %s\"\"\",\n",
    "    (cvu3,),\n",
    ").fetchall()"
   ]
  },
  {
   "cell_type": "code",
   "execution_count": 423,
   "metadata": {},
   "outputs": [
    {
     "data": {
      "text/markdown": [
       "## Rendimientos Pendientes de conference.sea.employee"
      ],
      "text/plain": [
       "<IPython.core.display.Markdown object>"
      ]
     },
     "metadata": {},
     "output_type": "display_data"
    }
   ],
   "source": [
    "# Obtener todos los registros de rendimientos de cvu3\n",
    "\n",
    "rendimientos_pendientes = pg.execute(\n",
    "    \"\"\"SELECT Rendimiento.id, fecha_pago, comienzo_plazo, fin_plazo, TNA, monto\n",
    "    FROM RendimientoUsuario\n",
    "    JOIN Rendimiento ON RendimientoUsuario.id = Rendimiento.id\n",
    "    WHERE clave_uniforme = %s AND fecha_pago IS NULL\"\"\",\n",
    "    (cvu3,),\n",
    ").fetchall()\n",
    "\n",
    "display(\n",
    "    Markdown(\n",
    "        f\"## Rendimientos Pendientes de {alias3}\"\n",
    "        + \"\\n\".join(\n",
    "            [\n",
    "                f\"\"\"\n",
    "- ID: {r[0]}\n",
    "- Fecha de pago: {r[1]}\n",
    "- Comienzo del plazo: {r[2]}\n",
    "- Fin del plazo: {r[3]}\n",
    "- TNA: {r[4]}\n",
    "- Monto Invertido: {r[5]}\n",
    "\"\"\"\n",
    "                for r in rendimientos_pendientes\n",
    "            ]\n",
    "        )\n",
    "    )\n",
    ")"
   ]
  },
  {
   "cell_type": "code",
   "execution_count": 424,
   "metadata": {},
   "outputs": [
    {
     "data": {
      "text/plain": [
       "('07470752787661160537249', '20-84093639-4', 'natalieneal@example.com', 'Mark', 'Miller', 'wilsoneric', '(634J*vW)p', 1007.2570449295231, datetime.date(2014, 12, 18))"
      ]
     },
     "execution_count": 424,
     "metadata": {},
     "output_type": "execute_result"
    }
   ],
   "source": [
    "# Mostrar usuario cvu2\n",
    "\n",
    "pg.execute(\"SELECT * FROM Usuario WHERE clave_uniforme = %s\", (cvu3,)).fetchone()"
   ]
  },
  {
   "cell_type": "code",
   "execution_count": 425,
   "metadata": {},
   "outputs": [],
   "source": [
    "# Crear un nuevo usuario, y pagarle a cvu1 con una tarjeta\n",
    "\n",
    "cvu4, alias4, cuit4, email4, first_name4, last_name4, user_name4, password4 = (\n",
    "    create_usuario()\n",
    ")\n",
    "\n",
    "create_tarjeta(cvu4)\n",
    "\n",
    "valor = 100"
   ]
  },
  {
   "cell_type": "code",
   "execution_count": 426,
   "metadata": {},
   "outputs": [
    {
     "data": {
      "text/plain": [
       "('06330592591803457621458',\n",
       " 'last.science.left',\n",
       " '94-40587988-4',\n",
       " 'hughesmatthew@example.com',\n",
       " 'Andrew',\n",
       " 'Morton',\n",
       " 'zacharysmith',\n",
       " '+2AGWfYn9t')"
      ]
     },
     "execution_count": 426,
     "metadata": {},
     "output_type": "execute_result"
    }
   ],
   "source": [
    "cvu4, alias4, cuit4, email4, first_name4, last_name4, user_name4, password4"
   ]
  },
  {
   "cell_type": "code",
   "execution_count": 427,
   "metadata": {},
   "outputs": [
    {
     "data": {
      "text/plain": [
       "('36935398823497', datetime.date(2024, 10, 9), 616, '06330592591803457621458')"
      ]
     },
     "execution_count": 427,
     "metadata": {},
     "output_type": "execute_result"
    }
   ],
   "source": [
    "pg.execute(\"SELECT * FROM Tarjeta WHERE CU = %s\", (cvu4,)).fetchone()"
   ]
  },
  {
   "cell_type": "code",
   "execution_count": 428,
   "metadata": {},
   "outputs": [
    {
     "data": {
      "text/plain": [
       "[('2299836556547555', datetime.date(2025, 1, 23), 696, '07540167981560157888921'),\n",
       " ('36935398823497', datetime.date(2024, 10, 9), 616, '06330592591803457621458')]"
      ]
     },
     "execution_count": 428,
     "metadata": {},
     "output_type": "execute_result"
    }
   ],
   "source": [
    "pg.execute(\"SELECT * FROM Tarjeta\").fetchall()"
   ]
  },
  {
   "cell_type": "code",
   "execution_count": 429,
   "metadata": {},
   "outputs": [
    {
     "data": {
      "text/markdown": [
       "## Transacción de transferencia con tarjeta\n",
       "- Código: 8"
      ],
      "text/plain": [
       "<IPython.core.display.Markdown object>"
      ]
     },
     "metadata": {},
     "output_type": "display_data"
    }
   ],
   "source": [
    "pg.execute(\n",
    "    \"\"\"INSERT INTO Transaccion (CU_Origen, CU_Destino, monto, fecha, descripcion, estado, es_con_tarjeta, numero, interes)\n",
    "    VALUES (%s, %s, %s, %s, %s, %s, %s, %s, %s)\"\"\",\n",
    "    (\n",
    "        cvu1,\n",
    "        cvu4,\n",
    "        valor,\n",
    "        fake.date_this_century(),\n",
    "        \"Transferencia\",\n",
    "        \"Pendiente\",\n",
    "        True,\n",
    "        num_tar1,\n",
    "        8,\n",
    "    ),\n",
    ")\n",
    "\n",
    "codigo_transaccion = pg.execute(\"SELECT codigo FROM Transaccion ORDER BY codigo DESC LIMIT 1\").fetchone()[0]\n",
    "\n",
    "pg.execute(\n",
    "    \"\"\"\n",
    "        INSERT INTO TransaccionTarjeta VALUES (%s, %s)\n",
    "    \"\"\",\n",
    "    (codigo_transaccion, num_tar1),\n",
    ")\n",
    "\n",
    "display(Markdown(f\"## Transacción de transferencia con tarjeta\\n- Código: {codigo_transaccion}\"))"
   ]
  },
  {
   "cell_type": "markdown",
   "metadata": {},
   "source": [
    "### Pagar a un usuario de MercadoPago por su alias"
   ]
  },
  {
   "cell_type": "code",
   "execution_count": 430,
   "metadata": {},
   "outputs": [
    {
     "data": {
      "text/plain": [
       "'Saldo de cvu1: 07540167981560157888921 antes de la transacción'"
      ]
     },
     "metadata": {},
     "output_type": "display_data"
    },
    {
     "data": {
      "text/plain": [
       "904.3432413402448"
      ]
     },
     "metadata": {},
     "output_type": "display_data"
    },
    {
     "data": {
      "text/plain": [
       "'Saldo de alias4: last.science.left antes de la transacción'"
      ]
     },
     "metadata": {},
     "output_type": "display_data"
    },
    {
     "data": {
      "text/plain": [
       "0.0"
      ]
     },
     "metadata": {},
     "output_type": "display_data"
    },
    {
     "data": {
      "text/plain": [
       "'Saldo de cvu1: 07540167981560157888921 antes de la transacción'"
      ]
     },
     "metadata": {},
     "output_type": "display_data"
    },
    {
     "data": {
      "text/plain": [
       "904.3432413402448"
      ]
     },
     "metadata": {},
     "output_type": "display_data"
    },
    {
     "data": {
      "text/plain": [
       "'Saldo de alias4: last.science.left antes de la transacción'"
      ]
     },
     "metadata": {},
     "output_type": "display_data"
    },
    {
     "data": {
      "text/plain": [
       "0.0"
      ]
     },
     "metadata": {},
     "output_type": "display_data"
    }
   ],
   "source": [
    "# Pagar a un usuario de MercadoPago por su alias\n",
    "\n",
    "# Saldo de cvu1 y alias4 antes de la transacción\n",
    "\n",
    "display(\n",
    "    f\"Saldo de cvu1: {cvu1} antes de la transacción\",\n",
    "    pg.execute(\n",
    "        \"SELECT saldo FROM Usuario WHERE clave_uniforme = %s\", (cvu1,)\n",
    "    ).fetchone()[0]\n",
    ")\n",
    "\n",
    "display(\n",
    "    f\"Saldo de alias4: {alias4} antes de la transacción\",\n",
    "    pg.execute(\n",
    "        \"SELECT saldo FROM Usuario WHERE clave_uniforme = %s\", (cvu4,)\n",
    "    ).fetchone()[0]\n",
    ")\n",
    "\n",
    "create_transaction_between_users(100, \"Pago de servicio\", sender_cu=cvu1, reciever_alias=alias4)\n",
    "\n",
    "# Saldo de cvu1 y alias4 despues de la transacción\n",
    "\n",
    "display(\n",
    "    f\"Saldo de cvu1: {cvu1} antes de la transacción\",\n",
    "    pg.execute(\n",
    "        \"SELECT saldo FROM Usuario WHERE clave_uniforme = %s\", (cvu1,)\n",
    "    ).fetchone()[0],\n",
    ")\n",
    "\n",
    "display(\n",
    "    f\"Saldo de alias4: {alias4} antes de la transacción\",\n",
    "    pg.execute(\n",
    "        \"SELECT saldo FROM Usuario WHERE clave_uniforme = %s\", (cvu4,)\n",
    "    ).fetchone()[0],\n",
    ")"
   ]
  },
  {
   "cell_type": "markdown",
   "metadata": {},
   "source": [
    "## Batch de Datos para correr las querys"
   ]
  },
  {
   "cell_type": "code",
   "execution_count": 431,
   "metadata": {},
   "outputs": [],
   "source": [
    "from tqdm import tqdm"
   ]
  },
  {
   "cell_type": "code",
   "execution_count": 432,
   "metadata": {},
   "outputs": [
    {
     "name": "stderr",
     "output_type": "stream",
     "text": [
      "Usuarios: 100%|██████████| 100/100 [00:00<00:00, 394.74it/s]\n",
      "Cuentas Bancarias: 100%|██████████| 100/100 [00:00<00:00, 659.74it/s]\n",
      "Servicios: 100%|██████████| 20/20 [00:00<00:00, 647.41it/s]\n",
      "Transacciones sin saldo: 100%|██████████| 20/20 [00:00<00:00, 345.15it/s]\n",
      "Días: 100%|██████████| 120/120 [11:33<00:00,  5.78s/it]\n"
     ]
    }
   ],
   "source": [
    "# Batch de Datos para correr las querys\n",
    "\n",
    "# Crear 100 usuarios, 100 cuentas bancarias, 20 servicios, algunos usuarios tienen tarjetas, algunos generan rendimientos\n",
    "# Simular el paso de 3 meses\n",
    "\n",
    "new_data = {}\n",
    "new_data[\"usrs\"] = []\n",
    "new_data[\"cbs\"] = []\n",
    "new_data[\"servs\"] = []\n",
    "\n",
    "for _ in tqdm(range(100), desc=\"Usuarios\"):\n",
    "    cvu, alias, cuit, email, first_name, last_name, user_name, password = create_usuario()\n",
    "    new_data[\"usrs\"].append((cvu, alias, cuit, email, first_name, last_name, user_name, password))\n",
    "\n",
    "    if random.choice([True, False]):\n",
    "        create_tarjeta(cvu)\n",
    "\n",
    "for _ in tqdm(range(100), desc=\"Cuentas Bancarias\"):\n",
    "    cvu, alias = create_cuenta_bancaria()\n",
    "    new_data[\"cbs\"].append((cvu, alias))\n",
    "\n",
    "for _ in tqdm(range(20), desc=\"Servicios\"):\n",
    "    cvu, alias = create_proveedor_servicio()\n",
    "    new_data[\"servs\"].append((cvu, alias))\n",
    "\n",
    "# Random try 20 transacciones entre usuarios sin saldo (todavia no se han hecho depósitos)\n",
    "for _ in tqdm(range(20), desc=\"Transacciones sin saldo\"):\n",
    "    try:\n",
    "        create_transaction_between_users(\n",
    "            random.randint(0, 100),\n",
    "            \"Transferencia\",\n",
    "            sender_cu=random.choice(new_data[\"usrs\"])[0],\n",
    "            reciever_cu=random.choice(new_data[\"usrs\"])[0],\n",
    "        )\n",
    "    except Exception as e:\n",
    "        if \"Not enough balance\" in str(e):\n",
    "            pass\n",
    "\n",
    "\n",
    "# Simular el paso del tiempo\n",
    "dias = 120\n",
    "\n",
    "for days in tqdm(range(dias), desc=\"Días\"):\n",
    "    today = datetime.now() - timedelta(days=days)\n",
    "\n",
    "    for usr in new_data[\"usrs\"]:\n",
    "        if random.choice([True, False]):\n",
    "            comenzar_inversion(usr[0], today)\n",
    "\n",
    "    for serv in new_data[\"servs\"]:\n",
    "        if random.choice([True, False]):\n",
    "            try: \n",
    "                create_transaccion_pay_service(\n",
    "                    random.choice(new_data[\"usrs\"])[0], \n",
    "                    serv[1], \n",
    "                    random.randint(10, 10000), \"Pago de servicio\", today)\n",
    "            except Exception as e:\n",
    "                if \"Not enough balance\" in str(e):\n",
    "                    pass\n",
    "\n",
    "    for usr in new_data[\"usrs\"]:\n",
    "        pagar_rendimientos_activos_usuario(usr[0])\n",
    "\n",
    "    # Generar transacciones entre usuarios\n",
    "    for _ in range(random.randint(5, 20)):\n",
    "\n",
    "        # Para todos los usuarios entrar plata al sistema\n",
    "        for usr in new_data[\"usrs\"]:\n",
    "            create_transaccion_deposit(\n",
    "                usr[0],\n",
    "                random.choice(new_data[\"cbs\"])[0],\n",
    "                random.randint(100, 10000), \n",
    "                \"Depósito\", \n",
    "                today\n",
    "            )\n",
    "        \n",
    "\n",
    "        # Seleccionar o un alias o un cvu\n",
    "        sender = random.choice(new_data[\"usrs\"])\n",
    "\n",
    "        usr2 = random.choice(list(set(new_data[\"usrs\"]) - {sender}))\n",
    "\n",
    "        alias = \"\"\n",
    "        cvu = \"\"\n",
    "        if random.random() > 0.8:\n",
    "            cvu = usr2[0]\n",
    "        else:\n",
    "            alias = usr2[1]\n",
    "\n",
    "        # Seleccionar random si es con tarjeta o no\n",
    "        card = random.choice(\n",
    "                    cards[0]\n",
    "                    if (\n",
    "                        cards := pg.execute(\n",
    "                            \"SELECT numero FROM Tarjeta where CU = %s\", (sender[0],)\n",
    "                        ).fetchall()\n",
    "                    )\n",
    "                    else [\"\"]\n",
    "                )\n",
    "\n",
    "        try: \n",
    "            create_transaction_between_users(\n",
    "                random.randint(\n",
    "                    0,\n",
    "                    int(\n",
    "                        pg.execute(\n",
    "                            \"SELECT saldo FROM Usuario WHERE clave_uniforme = %s\", (cvu1,)\n",
    "                        ).fetchone()[0]\n",
    "                    ),\n",
    "                ),\n",
    "                \"Transferencia\",\n",
    "                sender_cu=sender[0],\n",
    "                reciever_alias=alias,\n",
    "                reciever_cu=cvu,\n",
    "                card_number=random.choice(\n",
    "                    random.choice(cards)\n",
    "                    if (cards := pg.execute(\"SELECT numero FROM Tarjeta where CU = %s\", (sender[0],)).fetchall())\n",
    "                    else [\"\"]\n",
    "                ),\n",
    "                fecha=today,\n",
    "            )\n",
    "        except Exception as e:\n",
    "            if \"Not enough balance\" in str(e):\n",
    "                pass"
   ]
  },
  {
   "cell_type": "markdown",
   "metadata": {},
   "source": [
    "#### Checkeo para Query 4 de más adelante"
   ]
  },
  {
   "cell_type": "code",
   "execution_count": 433,
   "metadata": {},
   "outputs": [
    {
     "data": {
      "text/plain": [
       "147894"
      ]
     },
     "execution_count": 433,
     "metadata": {},
     "output_type": "execute_result"
    }
   ],
   "source": [
    "# Transfiero mucha plata desde una cuenta nueva sin saldo\n",
    "\n",
    "create_transaction_between_users(\n",
    "    123412341234,\n",
    "    \"Transferencia\",\n",
    "    sender_cu=create_usuario()[0],\n",
    "    reciever_cu=random.choice(new_data[\"usrs\"])[0],\n",
    ")"
   ]
  },
  {
   "cell_type": "code",
   "execution_count": 434,
   "metadata": {},
   "outputs": [
    {
     "data": {
      "text/plain": [
       "[(147894, '0898074488274433921936', '04680518019061693624179', 123412341234.0, datetime.date(2024, 5, 10), 'Transferencia', 'Rechazada', False, None, None)]"
      ]
     },
     "execution_count": 434,
     "metadata": {},
     "output_type": "execute_result"
    }
   ],
   "source": [
    "# Checkeo que se creo la transacción pero se encuentra rechazada\n",
    "\n",
    "pg.execute(\n",
    "    \"SELECT * FROM Transaccion T WHERE MONTO = 123412341234 ORDER BY codigo DESC;\"\n",
    ").fetchall()"
   ]
  },
  {
   "cell_type": "code",
   "execution_count": 435,
   "metadata": {},
   "outputs": [
    {
     "data": {
      "text/plain": [
       "(0.0, True)"
      ]
     },
     "execution_count": 435,
     "metadata": {},
     "output_type": "execute_result"
    }
   ],
   "source": [
    "# Checkeo que el saldo del usuario no se modifico (debería ser 0)\n",
    "\n",
    "saldo = pg.execute(\n",
    "    \"\"\"SELECT saldo FROM Usuario \n",
    "    INNER JOIN Transaccion T ON Usuario.clave_uniforme = T.CU_Origen\n",
    "    WHERE T.MONTO = 123412341234 ORDER BY T.codigo DESC;\"\"\"\n",
    ").fetchone()[0]\n",
    "\n",
    "saldo, saldo == 0.0"
   ]
  },
  {
   "cell_type": "code",
   "execution_count": 436,
   "metadata": {},
   "outputs": [
    {
     "name": "stderr",
     "output_type": "stream",
     "text": [
      "Transacciones sin saldo: 100%|██████████| 20/20 [00:00<00:00, 47.86it/s]\n"
     ]
    }
   ],
   "source": [
    "for _ in tqdm(range(20), desc=\"Transacciones sin saldo\"):\n",
    "    create_transaction_between_users(\n",
    "        123412341234,\n",
    "        \"Transferencia\",\n",
    "        sender_cu=create_usuario()[0],\n",
    "        reciever_cu=random.choice(new_data[\"usrs\"])[0],\n",
    "    )"
   ]
  },
  {
   "cell_type": "markdown",
   "metadata": {},
   "source": [
    "## Queries"
   ]
  },
  {
   "cell_type": "code",
   "execution_count": 437,
   "metadata": {},
   "outputs": [],
   "source": [
    "diff = \"\"\"\n",
    "CREATE OR REPLACE FUNCTION datediff(type VARCHAR, date_from DATE, date_to DATE) RETURNS INTEGER LANGUAGE plpgsql\n",
    "AS\n",
    "$$\n",
    "DECLARE age INTERVAL;\n",
    "BEGIN\n",
    "    CASE type\n",
    "        WHEN 'year' THEN\n",
    "            RETURN date_part('year', date_to) - date_part('year', date_from);\n",
    "        WHEN 'month' THEN\n",
    "            age := age(date_to, date_from);\n",
    "            RETURN date_part('year', age) * 12 + date_part('month', age);\n",
    "        WHEN 'day' THEN\n",
    "            RETURN (date_from - date_to)::int;\n",
    "    END CASE;\n",
    "END;\n",
    "$$;\n",
    "\n",
    "\"\"\""
   ]
  },
  {
   "cell_type": "markdown",
   "metadata": {},
   "source": [
    "### 1. Listar los usuarios que realizaron transacciones con tarjeta de crédito"
   ]
  },
  {
   "cell_type": "code",
   "execution_count": 438,
   "metadata": {},
   "outputs": [
    {
     "data": {
      "text/html": [
       "<div>\n",
       "<style scoped>\n",
       "    .dataframe tbody tr th:only-of-type {\n",
       "        vertical-align: middle;\n",
       "    }\n",
       "\n",
       "    .dataframe tbody tr th {\n",
       "        vertical-align: top;\n",
       "    }\n",
       "\n",
       "    .dataframe thead th {\n",
       "        text-align: right;\n",
       "    }\n",
       "</style>\n",
       "<table border=\"1\" class=\"dataframe\">\n",
       "  <thead>\n",
       "    <tr style=\"text-align: right;\">\n",
       "      <th></th>\n",
       "      <th>clave_uniforme</th>\n",
       "      <th>nombre</th>\n",
       "      <th>apellido</th>\n",
       "    </tr>\n",
       "  </thead>\n",
       "  <tbody>\n",
       "    <tr>\n",
       "      <th>0</th>\n",
       "      <td>07540167981560157888921</td>\n",
       "      <td>Jennifer</td>\n",
       "      <td>Mason</td>\n",
       "    </tr>\n",
       "    <tr>\n",
       "      <th>1</th>\n",
       "      <td>09210847975359911514519</td>\n",
       "      <td>Peter</td>\n",
       "      <td>Flowers</td>\n",
       "    </tr>\n",
       "    <tr>\n",
       "      <th>2</th>\n",
       "      <td>06370816771909502233968</td>\n",
       "      <td>Sarah</td>\n",
       "      <td>Smith</td>\n",
       "    </tr>\n",
       "    <tr>\n",
       "      <th>3</th>\n",
       "      <td>02710745449562955360970</td>\n",
       "      <td>Jeffery</td>\n",
       "      <td>Rangel</td>\n",
       "    </tr>\n",
       "    <tr>\n",
       "      <th>4</th>\n",
       "      <td>08500897673799877189177</td>\n",
       "      <td>Jacqueline</td>\n",
       "      <td>Willis</td>\n",
       "    </tr>\n",
       "    <tr>\n",
       "      <th>...</th>\n",
       "      <td>...</td>\n",
       "      <td>...</td>\n",
       "      <td>...</td>\n",
       "    </tr>\n",
       "    <tr>\n",
       "      <th>823</th>\n",
       "      <td>07890214348523518553916</td>\n",
       "      <td>Valerie</td>\n",
       "      <td>Martinez</td>\n",
       "    </tr>\n",
       "    <tr>\n",
       "      <th>824</th>\n",
       "      <td>04760723874760998180894</td>\n",
       "      <td>Carlos</td>\n",
       "      <td>Bell</td>\n",
       "    </tr>\n",
       "    <tr>\n",
       "      <th>825</th>\n",
       "      <td>06830908643366003539397</td>\n",
       "      <td>Christian</td>\n",
       "      <td>Garcia</td>\n",
       "    </tr>\n",
       "    <tr>\n",
       "      <th>826</th>\n",
       "      <td>04060324912792044392593</td>\n",
       "      <td>Marie</td>\n",
       "      <td>Melton</td>\n",
       "    </tr>\n",
       "    <tr>\n",
       "      <th>827</th>\n",
       "      <td>04840187494835181413465</td>\n",
       "      <td>Matthew</td>\n",
       "      <td>Carpenter</td>\n",
       "    </tr>\n",
       "  </tbody>\n",
       "</table>\n",
       "<p>828 rows × 3 columns</p>\n",
       "</div>"
      ],
      "text/plain": [
       "              clave_uniforme      nombre   apellido\n",
       "0    07540167981560157888921    Jennifer      Mason\n",
       "1    09210847975359911514519       Peter    Flowers\n",
       "2    06370816771909502233968       Sarah      Smith\n",
       "3    02710745449562955360970     Jeffery     Rangel\n",
       "4    08500897673799877189177  Jacqueline     Willis\n",
       "..                       ...         ...        ...\n",
       "823  07890214348523518553916     Valerie   Martinez\n",
       "824  04760723874760998180894      Carlos       Bell\n",
       "825  06830908643366003539397   Christian     Garcia\n",
       "826  04060324912792044392593       Marie     Melton\n",
       "827  04840187494835181413465     Matthew  Carpenter\n",
       "\n",
       "[828 rows x 3 columns]"
      ]
     },
     "execution_count": 438,
     "metadata": {},
     "output_type": "execute_result"
    }
   ],
   "source": [
    "q1 = \"\"\"\n",
    "SELECT u.clave_uniforme, u.nombre, u.apellido\n",
    "FROM Usuario u INNER JOIN Transaccion t ON (u.clave_uniforme = t.CU_Origen)\n",
    "WHERE t.es_con_tarjeta = TRUE;\n",
    "\"\"\"\n",
    "\n",
    "q1_res = pd.read_sql(q1, pg)\n",
    "q1_res"
   ]
  },
  {
   "cell_type": "markdown",
   "metadata": {},
   "source": [
    "### 2. Listar las transacciones realizadas por un usuario en particular en 2024."
   ]
  },
  {
   "cell_type": "code",
   "execution_count": 439,
   "metadata": {},
   "outputs": [
    {
     "data": {
      "text/html": [
       "<div>\n",
       "<style scoped>\n",
       "    .dataframe tbody tr th:only-of-type {\n",
       "        vertical-align: middle;\n",
       "    }\n",
       "\n",
       "    .dataframe tbody tr th {\n",
       "        vertical-align: top;\n",
       "    }\n",
       "\n",
       "    .dataframe thead th {\n",
       "        text-align: right;\n",
       "    }\n",
       "</style>\n",
       "<table border=\"1\" class=\"dataframe\">\n",
       "  <thead>\n",
       "    <tr style=\"text-align: right;\">\n",
       "      <th></th>\n",
       "      <th>codigo</th>\n",
       "      <th>cu_origen</th>\n",
       "      <th>cu_destino</th>\n",
       "      <th>monto</th>\n",
       "      <th>fecha</th>\n",
       "      <th>descripcion</th>\n",
       "      <th>estado</th>\n",
       "      <th>es_con_tarjeta</th>\n",
       "      <th>numero</th>\n",
       "      <th>interes</th>\n",
       "    </tr>\n",
       "  </thead>\n",
       "  <tbody>\n",
       "    <tr>\n",
       "      <th>0</th>\n",
       "      <td>2</td>\n",
       "      <td>07540167981560157888921</td>\n",
       "      <td>02380827998381094320374</td>\n",
       "      <td>100.0</td>\n",
       "      <td>2024-05-10</td>\n",
       "      <td>Transferencia</td>\n",
       "      <td>Rechazada</td>\n",
       "      <td>False</td>\n",
       "      <td>None</td>\n",
       "      <td>None</td>\n",
       "    </tr>\n",
       "    <tr>\n",
       "      <th>1</th>\n",
       "      <td>4</td>\n",
       "      <td>07540167981560157888921</td>\n",
       "      <td>02380827998381094320374</td>\n",
       "      <td>100.0</td>\n",
       "      <td>2024-05-10</td>\n",
       "      <td>Transferencia</td>\n",
       "      <td>Completada</td>\n",
       "      <td>False</td>\n",
       "      <td>None</td>\n",
       "      <td>None</td>\n",
       "    </tr>\n",
       "    <tr>\n",
       "      <th>2</th>\n",
       "      <td>5</td>\n",
       "      <td>07540167981560157888921</td>\n",
       "      <td>0284010628437586875258</td>\n",
       "      <td>100.0</td>\n",
       "      <td>2024-05-10</td>\n",
       "      <td>Pago de servicio</td>\n",
       "      <td>Completada</td>\n",
       "      <td>False</td>\n",
       "      <td>None</td>\n",
       "      <td>None</td>\n",
       "    </tr>\n",
       "    <tr>\n",
       "      <th>3</th>\n",
       "      <td>9</td>\n",
       "      <td>07540167981560157888921</td>\n",
       "      <td>06330592591803457621458</td>\n",
       "      <td>100.0</td>\n",
       "      <td>2024-05-10</td>\n",
       "      <td>Pago de servicio</td>\n",
       "      <td>Completada</td>\n",
       "      <td>False</td>\n",
       "      <td>None</td>\n",
       "      <td>None</td>\n",
       "    </tr>\n",
       "  </tbody>\n",
       "</table>\n",
       "</div>"
      ],
      "text/plain": [
       "   codigo                cu_origen               cu_destino  monto  \\\n",
       "0       2  07540167981560157888921  02380827998381094320374  100.0   \n",
       "1       4  07540167981560157888921  02380827998381094320374  100.0   \n",
       "2       5  07540167981560157888921   0284010628437586875258  100.0   \n",
       "3       9  07540167981560157888921  06330592591803457621458  100.0   \n",
       "\n",
       "        fecha       descripcion      estado  es_con_tarjeta numero interes  \n",
       "0  2024-05-10     Transferencia   Rechazada           False   None    None  \n",
       "1  2024-05-10     Transferencia  Completada           False   None    None  \n",
       "2  2024-05-10  Pago de servicio  Completada           False   None    None  \n",
       "3  2024-05-10  Pago de servicio  Completada           False   None    None  "
      ]
     },
     "execution_count": 439,
     "metadata": {},
     "output_type": "execute_result"
    }
   ],
   "source": [
    "q2 = \"\"\"\n",
    "SELECT *\n",
    "FROM Transaccion t\n",
    "WHERE EXTRACT(YEAR FROM t.fecha) = 2024\n",
    "AND t.CU_Origen = (SELECT CU_Origen FROM Transaccion WHERE CU_Origen IS NOT NULL LIMIT 1);\n",
    "\"\"\"\n",
    "\n",
    "q2_res = pd.read_sql(q2, pg)\n",
    "q2_res"
   ]
  },
  {
   "cell_type": "markdown",
   "metadata": {},
   "source": [
    "### 3. Obtener los rendimientos en un periodo de tiempo para todos los usuarios."
   ]
  },
  {
   "cell_type": "code",
   "execution_count": 440,
   "metadata": {},
   "outputs": [
    {
     "data": {
      "text/html": [
       "<div>\n",
       "<style scoped>\n",
       "    .dataframe tbody tr th:only-of-type {\n",
       "        vertical-align: middle;\n",
       "    }\n",
       "\n",
       "    .dataframe tbody tr th {\n",
       "        vertical-align: top;\n",
       "    }\n",
       "\n",
       "    .dataframe thead th {\n",
       "        text-align: right;\n",
       "    }\n",
       "</style>\n",
       "<table border=\"1\" class=\"dataframe\">\n",
       "  <thead>\n",
       "    <tr style=\"text-align: right;\">\n",
       "      <th></th>\n",
       "      <th>clave_uniforme</th>\n",
       "      <th>rendimiento_total_mes_actual</th>\n",
       "    </tr>\n",
       "  </thead>\n",
       "  <tbody>\n",
       "    <tr>\n",
       "      <th>0</th>\n",
       "      <td>01410834873689120466741</td>\n",
       "      <td>2.010770e+24</td>\n",
       "    </tr>\n",
       "    <tr>\n",
       "      <th>1</th>\n",
       "      <td>0150040009010426801904</td>\n",
       "      <td>4.254849e+23</td>\n",
       "    </tr>\n",
       "    <tr>\n",
       "      <th>2</th>\n",
       "      <td>01600392922320925748519</td>\n",
       "      <td>7.567886e+24</td>\n",
       "    </tr>\n",
       "    <tr>\n",
       "      <th>3</th>\n",
       "      <td>01850959069268203927949</td>\n",
       "      <td>3.989437e+22</td>\n",
       "    </tr>\n",
       "    <tr>\n",
       "      <th>4</th>\n",
       "      <td>0186082346756884415347</td>\n",
       "      <td>1.629686e+25</td>\n",
       "    </tr>\n",
       "    <tr>\n",
       "      <th>...</th>\n",
       "      <td>...</td>\n",
       "      <td>...</td>\n",
       "    </tr>\n",
       "    <tr>\n",
       "      <th>97</th>\n",
       "      <td>09720405131360086746040</td>\n",
       "      <td>1.071851e+23</td>\n",
       "    </tr>\n",
       "    <tr>\n",
       "      <th>98</th>\n",
       "      <td>0988084143007801558484</td>\n",
       "      <td>4.506127e+22</td>\n",
       "    </tr>\n",
       "    <tr>\n",
       "      <th>99</th>\n",
       "      <td>0990706258230249215505</td>\n",
       "      <td>1.632670e+25</td>\n",
       "    </tr>\n",
       "    <tr>\n",
       "      <th>100</th>\n",
       "      <td>0991095892006369269690</td>\n",
       "      <td>7.021341e+24</td>\n",
       "    </tr>\n",
       "    <tr>\n",
       "      <th>101</th>\n",
       "      <td>09930662288269068838141</td>\n",
       "      <td>2.777533e+24</td>\n",
       "    </tr>\n",
       "  </tbody>\n",
       "</table>\n",
       "<p>102 rows × 2 columns</p>\n",
       "</div>"
      ],
      "text/plain": [
       "              clave_uniforme  rendimiento_total_mes_actual\n",
       "0    01410834873689120466741                  2.010770e+24\n",
       "1     0150040009010426801904                  4.254849e+23\n",
       "2    01600392922320925748519                  7.567886e+24\n",
       "3    01850959069268203927949                  3.989437e+22\n",
       "4     0186082346756884415347                  1.629686e+25\n",
       "..                       ...                           ...\n",
       "97   09720405131360086746040                  1.071851e+23\n",
       "98    0988084143007801558484                  4.506127e+22\n",
       "99    0990706258230249215505                  1.632670e+25\n",
       "100   0991095892006369269690                  7.021341e+24\n",
       "101  09930662288269068838141                  2.777533e+24\n",
       "\n",
       "[102 rows x 2 columns]"
      ]
     },
     "execution_count": 440,
     "metadata": {},
     "output_type": "execute_result"
    }
   ],
   "source": [
    "q3 = \"\"\"\n",
    "SELECT \n",
    "    ru.clave_uniforme, \n",
    "    SUM(r.monto * r.TNA * datediff('day', r.fin_plazo::date, r.comienzo_plazo::date) /  365) AS rendimiento_total_mes_actual \n",
    "FROM Rendimiento r INNER  JOIN RendimientoUsuario ru ON r.id = ru.id \n",
    "WHERE EXTRACT(MONTH  FROM r.fecha_pago) = 5 AND EXTRACT(YEAR FROM r.fecha_pago) = 2024\n",
    "GROUP BY ru.clave_uniforme;\n",
    "\"\"\"\n",
    "\n",
    "q3_res = pd.read_sql(diff + q3, pg)\n",
    "q3_res"
   ]
  },
  {
   "cell_type": "markdown",
   "metadata": {},
   "source": [
    "### 4. Cantidad de transacciones rechazadas y la suma de los montos de las mismas para cada usuario."
   ]
  },
  {
   "cell_type": "code",
   "execution_count": 441,
   "metadata": {},
   "outputs": [
    {
     "data": {
      "text/html": [
       "<div>\n",
       "<style scoped>\n",
       "    .dataframe tbody tr th:only-of-type {\n",
       "        vertical-align: middle;\n",
       "    }\n",
       "\n",
       "    .dataframe tbody tr th {\n",
       "        vertical-align: top;\n",
       "    }\n",
       "\n",
       "    .dataframe thead th {\n",
       "        text-align: right;\n",
       "    }\n",
       "</style>\n",
       "<table border=\"1\" class=\"dataframe\">\n",
       "  <thead>\n",
       "    <tr style=\"text-align: right;\">\n",
       "      <th></th>\n",
       "      <th>clave_uniforme</th>\n",
       "      <th>cantidad</th>\n",
       "      <th>monto_total</th>\n",
       "    </tr>\n",
       "  </thead>\n",
       "  <tbody>\n",
       "    <tr>\n",
       "      <th>0</th>\n",
       "      <td>010049805895069473283</td>\n",
       "      <td>1</td>\n",
       "      <td>1.234123e+11</td>\n",
       "    </tr>\n",
       "    <tr>\n",
       "      <th>1</th>\n",
       "      <td>01170492263454004246155</td>\n",
       "      <td>1</td>\n",
       "      <td>1.234123e+11</td>\n",
       "    </tr>\n",
       "    <tr>\n",
       "      <th>2</th>\n",
       "      <td>0150040009010426801904</td>\n",
       "      <td>1</td>\n",
       "      <td>3.900000e+01</td>\n",
       "    </tr>\n",
       "    <tr>\n",
       "      <th>3</th>\n",
       "      <td>0186082346756884415347</td>\n",
       "      <td>1</td>\n",
       "      <td>9.200000e+01</td>\n",
       "    </tr>\n",
       "    <tr>\n",
       "      <th>4</th>\n",
       "      <td>02310966269470293696301</td>\n",
       "      <td>1</td>\n",
       "      <td>1.234123e+11</td>\n",
       "    </tr>\n",
       "  </tbody>\n",
       "</table>\n",
       "</div>"
      ],
      "text/plain": [
       "            clave_uniforme  cantidad   monto_total\n",
       "0    010049805895069473283         1  1.234123e+11\n",
       "1  01170492263454004246155         1  1.234123e+11\n",
       "2   0150040009010426801904         1  3.900000e+01\n",
       "3   0186082346756884415347         1  9.200000e+01\n",
       "4  02310966269470293696301         1  1.234123e+11"
      ]
     },
     "execution_count": 441,
     "metadata": {},
     "output_type": "execute_result"
    }
   ],
   "source": [
    "q4 = \"\"\"\n",
    "SELECT \n",
    "\tu.clave_uniforme, \n",
    "\tCOUNT(*) AS cantidad, \n",
    "\tSUM(t.monto) AS monto_total\n",
    "FROM Transaccion t RIGHT JOIN Usuario u ON (t.CU_origen = u.clave_uniforme)\n",
    "WHERE t.estado = 'Rechazada'\n",
    "GROUP BY u.clave_uniforme\n",
    "HAVING SUM(t.monto) IS NOT NULL;\n",
    "\"\"\"\n",
    "\n",
    "q4_res = pd.read_sql(q4, pg)\n",
    "q4_res.head()"
   ]
  },
  {
   "cell_type": "markdown",
   "metadata": {},
   "source": [
    "### 5. El provedor de servicios con mas pagos recibidos en el último mes."
   ]
  },
  {
   "cell_type": "code",
   "execution_count": 442,
   "metadata": {},
   "outputs": [
    {
     "data": {
      "text/html": [
       "<div>\n",
       "<style scoped>\n",
       "    .dataframe tbody tr th:only-of-type {\n",
       "        vertical-align: middle;\n",
       "    }\n",
       "\n",
       "    .dataframe tbody tr th {\n",
       "        vertical-align: top;\n",
       "    }\n",
       "\n",
       "    .dataframe thead th {\n",
       "        text-align: right;\n",
       "    }\n",
       "</style>\n",
       "<table border=\"1\" class=\"dataframe\">\n",
       "  <thead>\n",
       "    <tr style=\"text-align: right;\">\n",
       "      <th></th>\n",
       "      <th>clave_uniforme</th>\n",
       "      <th>nombre_empresa</th>\n",
       "      <th>pagos_recibidos</th>\n",
       "      <th>monto_total</th>\n",
       "    </tr>\n",
       "  </thead>\n",
       "  <tbody>\n",
       "    <tr>\n",
       "      <th>0</th>\n",
       "      <td>0284010628437586875258</td>\n",
       "      <td>Aguilar-Hernandez</td>\n",
       "      <td>1</td>\n",
       "      <td>100.0</td>\n",
       "    </tr>\n",
       "  </tbody>\n",
       "</table>\n",
       "</div>"
      ],
      "text/plain": [
       "           clave_uniforme     nombre_empresa  pagos_recibidos  monto_total\n",
       "0  0284010628437586875258  Aguilar-Hernandez                1        100.0"
      ]
     },
     "execution_count": 442,
     "metadata": {},
     "output_type": "execute_result"
    }
   ],
   "source": [
    "q5 = \"\"\"\n",
    "SELECT ps.clave_uniforme, ps.nombre_empresa, COUNT(*) AS pagos_recibidos, SUM(t.monto) AS monto_total\n",
    "FROM ProveedorServicio ps INNER JOIN Transaccion t ON (ps.clave_uniforme = t.CU_Destino)\n",
    "WHERE t.estado = 'Completada'\n",
    "GROUP BY ps.clave_uniforme, ps.nombre_empresa\n",
    "ORDER BY pagos_recibidos\n",
    "LIMIT 1;\n",
    "\"\"\"\n",
    "\n",
    "q5_res = pd.read_sql(q5, pg)\n",
    "q5_res"
   ]
  },
  {
   "cell_type": "markdown",
   "metadata": {},
   "source": [
    "### 6. Calcular la diferencia porcentual de rendimientos respecto al mes anterior para cada usuario."
   ]
  },
  {
   "cell_type": "code",
   "execution_count": 443,
   "metadata": {},
   "outputs": [
    {
     "data": {
      "text/html": [
       "<div>\n",
       "<style scoped>\n",
       "    .dataframe tbody tr th:only-of-type {\n",
       "        vertical-align: middle;\n",
       "    }\n",
       "\n",
       "    .dataframe tbody tr th {\n",
       "        vertical-align: top;\n",
       "    }\n",
       "\n",
       "    .dataframe thead th {\n",
       "        text-align: right;\n",
       "    }\n",
       "</style>\n",
       "<table border=\"1\" class=\"dataframe\">\n",
       "  <thead>\n",
       "    <tr style=\"text-align: right;\">\n",
       "      <th></th>\n",
       "      <th>clave_uniforme</th>\n",
       "      <th>rendimiento_total_mes_actual</th>\n",
       "      <th>porcentaje_cambio</th>\n",
       "    </tr>\n",
       "  </thead>\n",
       "  <tbody>\n",
       "    <tr>\n",
       "      <th>0</th>\n",
       "      <td>01410834873689120466741</td>\n",
       "      <td>2.010770e+24</td>\n",
       "      <td>0.0</td>\n",
       "    </tr>\n",
       "    <tr>\n",
       "      <th>1</th>\n",
       "      <td>0150040009010426801904</td>\n",
       "      <td>4.254849e+23</td>\n",
       "      <td>0.0</td>\n",
       "    </tr>\n",
       "    <tr>\n",
       "      <th>2</th>\n",
       "      <td>01600392922320925748519</td>\n",
       "      <td>7.567886e+24</td>\n",
       "      <td>0.0</td>\n",
       "    </tr>\n",
       "    <tr>\n",
       "      <th>3</th>\n",
       "      <td>01850959069268203927949</td>\n",
       "      <td>3.989437e+22</td>\n",
       "      <td>0.0</td>\n",
       "    </tr>\n",
       "    <tr>\n",
       "      <th>4</th>\n",
       "      <td>0186082346756884415347</td>\n",
       "      <td>1.629686e+25</td>\n",
       "      <td>0.0</td>\n",
       "    </tr>\n",
       "    <tr>\n",
       "      <th>...</th>\n",
       "      <td>...</td>\n",
       "      <td>...</td>\n",
       "      <td>...</td>\n",
       "    </tr>\n",
       "    <tr>\n",
       "      <th>97</th>\n",
       "      <td>09720405131360086746040</td>\n",
       "      <td>1.071851e+23</td>\n",
       "      <td>0.0</td>\n",
       "    </tr>\n",
       "    <tr>\n",
       "      <th>98</th>\n",
       "      <td>0988084143007801558484</td>\n",
       "      <td>4.506127e+22</td>\n",
       "      <td>0.0</td>\n",
       "    </tr>\n",
       "    <tr>\n",
       "      <th>99</th>\n",
       "      <td>0990706258230249215505</td>\n",
       "      <td>1.632670e+25</td>\n",
       "      <td>0.0</td>\n",
       "    </tr>\n",
       "    <tr>\n",
       "      <th>100</th>\n",
       "      <td>0991095892006369269690</td>\n",
       "      <td>7.021341e+24</td>\n",
       "      <td>0.0</td>\n",
       "    </tr>\n",
       "    <tr>\n",
       "      <th>101</th>\n",
       "      <td>09930662288269068838141</td>\n",
       "      <td>2.777533e+24</td>\n",
       "      <td>0.0</td>\n",
       "    </tr>\n",
       "  </tbody>\n",
       "</table>\n",
       "<p>102 rows × 3 columns</p>\n",
       "</div>"
      ],
      "text/plain": [
       "              clave_uniforme  rendimiento_total_mes_actual  porcentaje_cambio\n",
       "0    01410834873689120466741                  2.010770e+24                0.0\n",
       "1     0150040009010426801904                  4.254849e+23                0.0\n",
       "2    01600392922320925748519                  7.567886e+24                0.0\n",
       "3    01850959069268203927949                  3.989437e+22                0.0\n",
       "4     0186082346756884415347                  1.629686e+25                0.0\n",
       "..                       ...                           ...                ...\n",
       "97   09720405131360086746040                  1.071851e+23                0.0\n",
       "98    0988084143007801558484                  4.506127e+22                0.0\n",
       "99    0990706258230249215505                  1.632670e+25                0.0\n",
       "100   0991095892006369269690                  7.021341e+24                0.0\n",
       "101  09930662288269068838141                  2.777533e+24                0.0\n",
       "\n",
       "[102 rows x 3 columns]"
      ]
     },
     "execution_count": 443,
     "metadata": {},
     "output_type": "execute_result"
    }
   ],
   "source": [
    "q6 = \"\"\"\n",
    "WITH rendimientos_mes_actual AS ( \n",
    "\tSELECT \n",
    "\t\tru.clave_uniforme, \n",
    "\t\tSUM(r.monto * r.TNA *  datediff('day', r.fin_plazo::date, r.comienzo_plazo::date) /  365) AS rendimiento_total_mes_actual \n",
    "\tFROM Rendimiento r INNER  JOIN RendimientoUsuario ru ON r.id = ru.id \n",
    "\tWHERE  EXTRACT(MONTH  FROM r.fecha_pago) =  EXTRACT(MONTH  FROM  CURRENT_DATE) \n",
    "\tGROUP  BY ru.clave_uniforme \n",
    "),\n",
    "rendimientos_mes_anterior AS ( \n",
    "\tSELECT \n",
    "\t\tru.clave_uniforme, \n",
    "\t\tSUM(r.monto * r.TNA *  datediff('day', r.fin_plazo::date, r.comienzo_plazo::date) /  365) AS rendimiento_total_mes_anterior \n",
    "\tFROM Rendimiento r INNER  JOIN RendimientoUsuario ru ON r.id = ru.id \n",
    "\tWHERE  EXTRACT(MONTH  FROM r.fecha_pago) =  EXTRACT(MONTH  FROM  CURRENT_DATE) -  1  \n",
    "\tGROUP  BY ru.clave_uniforme \n",
    ") \n",
    "SELECT \n",
    "\trma.clave_uniforme, \n",
    "\trma.rendimiento_total_mes_actual, \n",
    "\tCOALESCE(\n",
    "        -- rma.rendimiento_total_mes_actual / rmb.rendimiento_total_mes_anterior, division por cero\n",
    "        CASE \n",
    "            WHEN rmb.rendimiento_total_mes_anterior = 0 THEN NULL\n",
    "            ELSE rma.rendimiento_total_mes_actual / rmb.rendimiento_total_mes_anterior\n",
    "        END,\n",
    "        -- rma.rendimiento_total_mes_actual / rma.rendimiento_total_mes_actual,\n",
    "        CASE \n",
    "            WHEN rmb.rendimiento_total_mes_anterior = 0 THEN 1\n",
    "            ELSE 0\n",
    "        END,\n",
    "        -- -rmb.rendimiento_total_mes_anterior / rmb.rendimiento_total_mes_anterior, \n",
    "        CASE \n",
    "            WHEN rma.rendimiento_total_mes_actual = 0 THEN -1\n",
    "            ELSE 0\n",
    "        END,\n",
    "        0) AS porcentaje_cambio \n",
    "FROM rendimientos_mes_actual rma LEFT  JOIN rendimientos_mes_anterior rmb ON rma.clave_uniforme = rmb.clave_uniforme;\n",
    "\"\"\"\n",
    "\n",
    "q6_res = pd.read_sql(diff + q6, pg)\n",
    "q6_res"
   ]
  },
  {
   "cell_type": "markdown",
   "metadata": {},
   "source": [
    "### 7. Ranking de usuarios con mayor monto transaccionado en el último mes."
   ]
  },
  {
   "cell_type": "code",
   "execution_count": 444,
   "metadata": {},
   "outputs": [
    {
     "data": {
      "text/html": [
       "<div>\n",
       "<style scoped>\n",
       "    .dataframe tbody tr th:only-of-type {\n",
       "        vertical-align: middle;\n",
       "    }\n",
       "\n",
       "    .dataframe tbody tr th {\n",
       "        vertical-align: top;\n",
       "    }\n",
       "\n",
       "    .dataframe thead th {\n",
       "        text-align: right;\n",
       "    }\n",
       "</style>\n",
       "<table border=\"1\" class=\"dataframe\">\n",
       "  <thead>\n",
       "    <tr style=\"text-align: right;\">\n",
       "      <th></th>\n",
       "      <th>cu_origen</th>\n",
       "      <th>mayor_monto</th>\n",
       "    </tr>\n",
       "  </thead>\n",
       "  <tbody>\n",
       "    <tr>\n",
       "      <th>0</th>\n",
       "      <td>07640223616980376640166</td>\n",
       "      <td>9999.0</td>\n",
       "    </tr>\n",
       "    <tr>\n",
       "      <th>1</th>\n",
       "      <td>07640705527687818928252</td>\n",
       "      <td>9999.0</td>\n",
       "    </tr>\n",
       "    <tr>\n",
       "      <th>2</th>\n",
       "      <td>08720874266574670581259</td>\n",
       "      <td>9998.0</td>\n",
       "    </tr>\n",
       "    <tr>\n",
       "      <th>3</th>\n",
       "      <td>01000164671807578179167</td>\n",
       "      <td>9997.0</td>\n",
       "    </tr>\n",
       "    <tr>\n",
       "      <th>4</th>\n",
       "      <td>0920483558308949776358</td>\n",
       "      <td>9996.0</td>\n",
       "    </tr>\n",
       "  </tbody>\n",
       "</table>\n",
       "</div>"
      ],
      "text/plain": [
       "                 cu_origen  mayor_monto\n",
       "0  07640223616980376640166       9999.0\n",
       "1  07640705527687818928252       9999.0\n",
       "2  08720874266574670581259       9998.0\n",
       "3  01000164671807578179167       9997.0\n",
       "4   0920483558308949776358       9996.0"
      ]
     },
     "execution_count": 444,
     "metadata": {},
     "output_type": "execute_result"
    }
   ],
   "source": [
    "q7 = \"\"\"\n",
    "SELECT \n",
    "\tt.CU_Origen, \n",
    "\tMAX(t.monto) AS mayor_monto \n",
    "FROM Transaccion t\n",
    "WHERE EXTRACT(MONTH  FROM t.fecha) =  EXTRACT(MONTH  FROM  CURRENT_DATE)\n",
    "AND t.estado = 'Completada'\n",
    "GROUP BY t.CU_Origen\n",
    "ORDER  BY mayor_monto DESC;\n",
    "\"\"\"\n",
    "\n",
    "q7_res = pd.read_sql(q7, pg)\n",
    "q7_res.head()"
   ]
  },
  {
   "cell_type": "markdown",
   "metadata": {},
   "source": [
    "### 8. Ranking de usuarios por rendimientos obtenidos."
   ]
  },
  {
   "cell_type": "code",
   "execution_count": 445,
   "metadata": {},
   "outputs": [
    {
     "data": {
      "text/html": [
       "<div>\n",
       "<style scoped>\n",
       "    .dataframe tbody tr th:only-of-type {\n",
       "        vertical-align: middle;\n",
       "    }\n",
       "\n",
       "    .dataframe tbody tr th {\n",
       "        vertical-align: top;\n",
       "    }\n",
       "\n",
       "    .dataframe thead th {\n",
       "        text-align: right;\n",
       "    }\n",
       "</style>\n",
       "<table border=\"1\" class=\"dataframe\">\n",
       "  <thead>\n",
       "    <tr style=\"text-align: right;\">\n",
       "      <th></th>\n",
       "      <th>clave_uniforme</th>\n",
       "      <th>rendimiento_total</th>\n",
       "    </tr>\n",
       "  </thead>\n",
       "  <tbody>\n",
       "    <tr>\n",
       "      <th>0</th>\n",
       "      <td>06200994912899711446822</td>\n",
       "      <td>55417.293629</td>\n",
       "    </tr>\n",
       "    <tr>\n",
       "      <th>1</th>\n",
       "      <td>05500349283329011301551</td>\n",
       "      <td>21885.786946</td>\n",
       "    </tr>\n",
       "    <tr>\n",
       "      <th>2</th>\n",
       "      <td>07230350518170082261076</td>\n",
       "      <td>16988.084962</td>\n",
       "    </tr>\n",
       "    <tr>\n",
       "      <th>3</th>\n",
       "      <td>0510885602644839314307</td>\n",
       "      <td>15617.408803</td>\n",
       "    </tr>\n",
       "    <tr>\n",
       "      <th>4</th>\n",
       "      <td>07830441594082739701132</td>\n",
       "      <td>14400.642335</td>\n",
       "    </tr>\n",
       "  </tbody>\n",
       "</table>\n",
       "</div>"
      ],
      "text/plain": [
       "            clave_uniforme  rendimiento_total\n",
       "0  06200994912899711446822       55417.293629\n",
       "1  05500349283329011301551       21885.786946\n",
       "2  07230350518170082261076       16988.084962\n",
       "3   0510885602644839314307       15617.408803\n",
       "4  07830441594082739701132       14400.642335"
      ]
     },
     "execution_count": 445,
     "metadata": {},
     "output_type": "execute_result"
    }
   ],
   "source": [
    "q8 = \"\"\"\n",
    "SELECT \n",
    "\tru.clave_uniforme, \n",
    "\tSUM(r.monto * r.TNA * datediff('day', r.fin_plazo::date, r.comienzo_plazo::date) /  365) AS rendimiento_total \n",
    "FROM Rendimiento r INNER JOIN RendimientoUsuario ru ON r.id = ru.id \n",
    "WHERE r.fin_plazo < CURRENT_DATE\n",
    "GROUP  BY ru.clave_uniforme \n",
    "ORDER  BY rendimiento_total DESC;\n",
    "\"\"\"\n",
    "\n",
    "q8_res = pd.read_sql(diff + q8, pg)\n",
    "q8_res.head()"
   ]
  },
  {
   "cell_type": "markdown",
   "metadata": {},
   "source": [
    "### 9. Calcular el saldo resultante después de cada transaccion"
   ]
  },
  {
   "cell_type": "markdown",
   "metadata": {},
   "source": [
    "#### Recibida"
   ]
  },
  {
   "cell_type": "code",
   "execution_count": 446,
   "metadata": {},
   "outputs": [
    {
     "data": {
      "text/html": [
       "<div>\n",
       "<style scoped>\n",
       "    .dataframe tbody tr th:only-of-type {\n",
       "        vertical-align: middle;\n",
       "    }\n",
       "\n",
       "    .dataframe tbody tr th {\n",
       "        vertical-align: top;\n",
       "    }\n",
       "\n",
       "    .dataframe thead th {\n",
       "        text-align: right;\n",
       "    }\n",
       "</style>\n",
       "<table border=\"1\" class=\"dataframe\">\n",
       "  <thead>\n",
       "    <tr style=\"text-align: right;\">\n",
       "      <th></th>\n",
       "      <th>operacion_id</th>\n",
       "      <th>usuario_id</th>\n",
       "      <th>fecha</th>\n",
       "      <th>tipo_operacion</th>\n",
       "      <th>monto</th>\n",
       "      <th>saldo_resultante</th>\n",
       "    </tr>\n",
       "  </thead>\n",
       "  <tbody>\n",
       "    <tr>\n",
       "      <th>0</th>\n",
       "      <td>146890</td>\n",
       "      <td>01410834873689120466741</td>\n",
       "      <td>2024-01-12</td>\n",
       "      <td>Transaccion Recibida</td>\n",
       "      <td>8832.0</td>\n",
       "      <td>17664.0</td>\n",
       "    </tr>\n",
       "    <tr>\n",
       "      <th>1</th>\n",
       "      <td>146991</td>\n",
       "      <td>01410834873689120466741</td>\n",
       "      <td>2024-01-12</td>\n",
       "      <td>Transaccion Recibida</td>\n",
       "      <td>1052.0</td>\n",
       "      <td>10936.0</td>\n",
       "    </tr>\n",
       "    <tr>\n",
       "      <th>2</th>\n",
       "      <td>146991</td>\n",
       "      <td>01410834873689120466741</td>\n",
       "      <td>2024-01-12</td>\n",
       "      <td>Transaccion Recibida</td>\n",
       "      <td>1052.0</td>\n",
       "      <td>19768.0</td>\n",
       "    </tr>\n",
       "    <tr>\n",
       "      <th>3</th>\n",
       "      <td>147092</td>\n",
       "      <td>01410834873689120466741</td>\n",
       "      <td>2024-01-12</td>\n",
       "      <td>Transaccion Recibida</td>\n",
       "      <td>123.0</td>\n",
       "      <td>19891.0</td>\n",
       "    </tr>\n",
       "    <tr>\n",
       "      <th>4</th>\n",
       "      <td>147092</td>\n",
       "      <td>01410834873689120466741</td>\n",
       "      <td>2024-01-12</td>\n",
       "      <td>Transaccion Recibida</td>\n",
       "      <td>123.0</td>\n",
       "      <td>28723.0</td>\n",
       "    </tr>\n",
       "    <tr>\n",
       "      <th>...</th>\n",
       "      <td>...</td>\n",
       "      <td>...</td>\n",
       "      <td>...</td>\n",
       "      <td>...</td>\n",
       "      <td>...</td>\n",
       "      <td>...</td>\n",
       "    </tr>\n",
       "    <tr>\n",
       "      <th>1149161</th>\n",
       "      <td>1439</td>\n",
       "      <td>09930662288269068838141</td>\n",
       "      <td>2024-05-10</td>\n",
       "      <td>Transaccion Recibida</td>\n",
       "      <td>4414.0</td>\n",
       "      <td>53945983.0</td>\n",
       "    </tr>\n",
       "    <tr>\n",
       "      <th>1149162</th>\n",
       "      <td>1439</td>\n",
       "      <td>09930662288269068838141</td>\n",
       "      <td>2024-05-10</td>\n",
       "      <td>Transaccion Recibida</td>\n",
       "      <td>4414.0</td>\n",
       "      <td>53951266.0</td>\n",
       "    </tr>\n",
       "    <tr>\n",
       "      <th>1149163</th>\n",
       "      <td>1439</td>\n",
       "      <td>09930662288269068838141</td>\n",
       "      <td>2024-05-10</td>\n",
       "      <td>Transaccion Recibida</td>\n",
       "      <td>4414.0</td>\n",
       "      <td>53955680.0</td>\n",
       "    </tr>\n",
       "    <tr>\n",
       "      <th>1149164</th>\n",
       "      <td>1439</td>\n",
       "      <td>09930662288269068838141</td>\n",
       "      <td>2024-05-10</td>\n",
       "      <td>Transaccion Recibida</td>\n",
       "      <td>4414.0</td>\n",
       "      <td>53964952.0</td>\n",
       "    </tr>\n",
       "    <tr>\n",
       "      <th>1149165</th>\n",
       "      <td>1439</td>\n",
       "      <td>09930662288269068838141</td>\n",
       "      <td>2024-05-10</td>\n",
       "      <td>Transaccion Recibida</td>\n",
       "      <td>4414.0</td>\n",
       "      <td>53972837.0</td>\n",
       "    </tr>\n",
       "  </tbody>\n",
       "</table>\n",
       "<p>1149166 rows × 6 columns</p>\n",
       "</div>"
      ],
      "text/plain": [
       "         operacion_id               usuario_id       fecha  \\\n",
       "0              146890  01410834873689120466741  2024-01-12   \n",
       "1              146991  01410834873689120466741  2024-01-12   \n",
       "2              146991  01410834873689120466741  2024-01-12   \n",
       "3              147092  01410834873689120466741  2024-01-12   \n",
       "4              147092  01410834873689120466741  2024-01-12   \n",
       "...               ...                      ...         ...   \n",
       "1149161          1439  09930662288269068838141  2024-05-10   \n",
       "1149162          1439  09930662288269068838141  2024-05-10   \n",
       "1149163          1439  09930662288269068838141  2024-05-10   \n",
       "1149164          1439  09930662288269068838141  2024-05-10   \n",
       "1149165          1439  09930662288269068838141  2024-05-10   \n",
       "\n",
       "               tipo_operacion   monto  saldo_resultante  \n",
       "0        Transaccion Recibida  8832.0           17664.0  \n",
       "1        Transaccion Recibida  1052.0           10936.0  \n",
       "2        Transaccion Recibida  1052.0           19768.0  \n",
       "3        Transaccion Recibida   123.0           19891.0  \n",
       "4        Transaccion Recibida   123.0           28723.0  \n",
       "...                       ...     ...               ...  \n",
       "1149161  Transaccion Recibida  4414.0        53945983.0  \n",
       "1149162  Transaccion Recibida  4414.0        53951266.0  \n",
       "1149163  Transaccion Recibida  4414.0        53955680.0  \n",
       "1149164  Transaccion Recibida  4414.0        53964952.0  \n",
       "1149165  Transaccion Recibida  4414.0        53972837.0  \n",
       "\n",
       "[1149166 rows x 6 columns]"
      ]
     },
     "execution_count": 446,
     "metadata": {},
     "output_type": "execute_result"
    }
   ],
   "source": [
    "q9_recibida = \"\"\"\n",
    "SELECT \n",
    "    t.codigo AS operacion_id,\n",
    "    t.CU_Destino AS usuario_id,\n",
    "    t.fecha,\n",
    "    'Transaccion Recibida' AS tipo_operacion,\n",
    "    t.monto,\n",
    "    t.monto + SUM(t2.monto) OVER (PARTITION BY t.CU_Destino ORDER BY t.fecha, t.codigo ROWS BETWEEN UNBOUNDED PRECEDING AND CURRENT ROW) AS saldo_resultante\n",
    "FROM Transaccion t\n",
    "LEFT JOIN Transaccion t2 ON t.CU_Destino = t2.CU_Destino AND t.fecha >= t2.fecha AND t.codigo >= t2.codigo;\n",
    "\"\"\"\n",
    "\n",
    "q9_recibida_res = pd.read_sql(q9_recibida, pg)\n",
    "q9_recibida_res"
   ]
  },
  {
   "cell_type": "markdown",
   "metadata": {},
   "source": [
    "#### Realizada"
   ]
  },
  {
   "cell_type": "code",
   "execution_count": 447,
   "metadata": {},
   "outputs": [
    {
     "data": {
      "text/html": [
       "<div>\n",
       "<style scoped>\n",
       "    .dataframe tbody tr th:only-of-type {\n",
       "        vertical-align: middle;\n",
       "    }\n",
       "\n",
       "    .dataframe tbody tr th {\n",
       "        vertical-align: top;\n",
       "    }\n",
       "\n",
       "    .dataframe thead th {\n",
       "        text-align: right;\n",
       "    }\n",
       "</style>\n",
       "<table border=\"1\" class=\"dataframe\">\n",
       "  <thead>\n",
       "    <tr style=\"text-align: right;\">\n",
       "      <th></th>\n",
       "      <th>operacion_id</th>\n",
       "      <th>usuario_id</th>\n",
       "      <th>fecha</th>\n",
       "      <th>tipo_operacion</th>\n",
       "      <th>monto</th>\n",
       "      <th>saldo_resultante</th>\n",
       "    </tr>\n",
       "  </thead>\n",
       "  <tbody>\n",
       "    <tr>\n",
       "      <th>0</th>\n",
       "      <td>146926</td>\n",
       "      <td>01000164671807578179167</td>\n",
       "      <td>2024-01-12</td>\n",
       "      <td>Transaccion Realizada</td>\n",
       "      <td>-8801.0</td>\n",
       "      <td>0.0</td>\n",
       "    </tr>\n",
       "    <tr>\n",
       "      <th>1</th>\n",
       "      <td>146982</td>\n",
       "      <td>01000164671807578179167</td>\n",
       "      <td>2024-01-12</td>\n",
       "      <td>Transaccion Realizada</td>\n",
       "      <td>-3911.0</td>\n",
       "      <td>8801.0</td>\n",
       "    </tr>\n",
       "    <tr>\n",
       "      <th>2</th>\n",
       "      <td>146982</td>\n",
       "      <td>01000164671807578179167</td>\n",
       "      <td>2024-01-12</td>\n",
       "      <td>Transaccion Realizada</td>\n",
       "      <td>-3911.0</td>\n",
       "      <td>17602.0</td>\n",
       "    </tr>\n",
       "    <tr>\n",
       "      <th>3</th>\n",
       "      <td>147026</td>\n",
       "      <td>01000164671807578179167</td>\n",
       "      <td>2024-01-12</td>\n",
       "      <td>Transaccion Realizada</td>\n",
       "      <td>-8172.0</td>\n",
       "      <td>17252.0</td>\n",
       "    </tr>\n",
       "    <tr>\n",
       "      <th>4</th>\n",
       "      <td>147026</td>\n",
       "      <td>01000164671807578179167</td>\n",
       "      <td>2024-01-12</td>\n",
       "      <td>Transaccion Realizada</td>\n",
       "      <td>-8172.0</td>\n",
       "      <td>25424.0</td>\n",
       "    </tr>\n",
       "    <tr>\n",
       "      <th>...</th>\n",
       "      <td>...</td>\n",
       "      <td>...</td>\n",
       "      <td>...</td>\n",
       "      <td>...</td>\n",
       "      <td>...</td>\n",
       "      <td>...</td>\n",
       "    </tr>\n",
       "    <tr>\n",
       "      <th>1176524</th>\n",
       "      <td>19118</td>\n",
       "      <td>0991095892006369269690</td>\n",
       "      <td>2024-04-26</td>\n",
       "      <td>Transaccion Realizada</td>\n",
       "      <td>-354.0</td>\n",
       "      <td>9909.0</td>\n",
       "    </tr>\n",
       "    <tr>\n",
       "      <th>1176525</th>\n",
       "      <td>10533</td>\n",
       "      <td>0991095892006369269690</td>\n",
       "      <td>2024-05-03</td>\n",
       "      <td>Transaccion Realizada</td>\n",
       "      <td>-764.0</td>\n",
       "      <td>10263.0</td>\n",
       "    </tr>\n",
       "    <tr>\n",
       "      <th>1176526</th>\n",
       "      <td>8614</td>\n",
       "      <td>0991095892006369269690</td>\n",
       "      <td>2024-05-04</td>\n",
       "      <td>Transaccion Realizada</td>\n",
       "      <td>-738.0</td>\n",
       "      <td>11027.0</td>\n",
       "    </tr>\n",
       "    <tr>\n",
       "      <th>1176527</th>\n",
       "      <td>3867</td>\n",
       "      <td>0991095892006369269690</td>\n",
       "      <td>2024-05-08</td>\n",
       "      <td>Transaccion Realizada</td>\n",
       "      <td>-503.0</td>\n",
       "      <td>11765.0</td>\n",
       "    </tr>\n",
       "    <tr>\n",
       "      <th>1176528</th>\n",
       "      <td>1948</td>\n",
       "      <td>09930662288269068838141</td>\n",
       "      <td>2024-05-09</td>\n",
       "      <td>Transaccion Realizada</td>\n",
       "      <td>-887.0</td>\n",
       "      <td>0.0</td>\n",
       "    </tr>\n",
       "  </tbody>\n",
       "</table>\n",
       "<p>1176529 rows × 6 columns</p>\n",
       "</div>"
      ],
      "text/plain": [
       "         operacion_id               usuario_id       fecha  \\\n",
       "0              146926  01000164671807578179167  2024-01-12   \n",
       "1              146982  01000164671807578179167  2024-01-12   \n",
       "2              146982  01000164671807578179167  2024-01-12   \n",
       "3              147026  01000164671807578179167  2024-01-12   \n",
       "4              147026  01000164671807578179167  2024-01-12   \n",
       "...               ...                      ...         ...   \n",
       "1176524         19118   0991095892006369269690  2024-04-26   \n",
       "1176525         10533   0991095892006369269690  2024-05-03   \n",
       "1176526          8614   0991095892006369269690  2024-05-04   \n",
       "1176527          3867   0991095892006369269690  2024-05-08   \n",
       "1176528          1948  09930662288269068838141  2024-05-09   \n",
       "\n",
       "                tipo_operacion   monto  saldo_resultante  \n",
       "0        Transaccion Realizada -8801.0               0.0  \n",
       "1        Transaccion Realizada -3911.0            8801.0  \n",
       "2        Transaccion Realizada -3911.0           17602.0  \n",
       "3        Transaccion Realizada -8172.0           17252.0  \n",
       "4        Transaccion Realizada -8172.0           25424.0  \n",
       "...                        ...     ...               ...  \n",
       "1176524  Transaccion Realizada  -354.0            9909.0  \n",
       "1176525  Transaccion Realizada  -764.0           10263.0  \n",
       "1176526  Transaccion Realizada  -738.0           11027.0  \n",
       "1176527  Transaccion Realizada  -503.0           11765.0  \n",
       "1176528  Transaccion Realizada  -887.0               0.0  \n",
       "\n",
       "[1176529 rows x 6 columns]"
      ]
     },
     "execution_count": 447,
     "metadata": {},
     "output_type": "execute_result"
    }
   ],
   "source": [
    "q9_realizada = \"\"\"\n",
    "SELECT \n",
    "    t.codigo AS operacion_id,\n",
    "    t.CU_Origen AS usuario_id,\n",
    "    t.fecha,\n",
    "    'Transaccion Realizada' AS tipo_operacion,\n",
    "    t.monto * -1 AS monto, -- Se multiplica por -1 para reflejar la disminución del saldo\n",
    "    (t.monto * -1) + SUM(t2.monto) OVER (PARTITION BY t.CU_Origen ORDER BY t.fecha, t.codigo ROWS BETWEEN UNBOUNDED PRECEDING AND CURRENT ROW) AS saldo_resultante\n",
    "FROM Transaccion t\n",
    "LEFT JOIN Transaccion t2 ON t.CU_Origen = t2.CU_Origen AND t.fecha >= t2.fecha AND t.codigo >= t2.codigo;\n",
    "\"\"\"\n",
    "\n",
    "q9_realizada_res = pd.read_sql(q9_realizada, pg)\n",
    "q9_realizada_res"
   ]
  },
  {
   "cell_type": "markdown",
   "metadata": {},
   "source": [
    "#### Recibidas y Realizadas"
   ]
  },
  {
   "cell_type": "code",
   "execution_count": 448,
   "metadata": {},
   "outputs": [
    {
     "data": {
      "text/html": [
       "<div>\n",
       "<style scoped>\n",
       "    .dataframe tbody tr th:only-of-type {\n",
       "        vertical-align: middle;\n",
       "    }\n",
       "\n",
       "    .dataframe tbody tr th {\n",
       "        vertical-align: top;\n",
       "    }\n",
       "\n",
       "    .dataframe thead th {\n",
       "        text-align: right;\n",
       "    }\n",
       "</style>\n",
       "<table border=\"1\" class=\"dataframe\">\n",
       "  <thead>\n",
       "    <tr style=\"text-align: right;\">\n",
       "      <th></th>\n",
       "      <th>operacion_id</th>\n",
       "      <th>usuario_id</th>\n",
       "      <th>fecha</th>\n",
       "      <th>tipo_operacion</th>\n",
       "      <th>monto</th>\n",
       "      <th>saldo_resultante</th>\n",
       "    </tr>\n",
       "  </thead>\n",
       "  <tbody>\n",
       "    <tr>\n",
       "      <th>0</th>\n",
       "      <td>146890</td>\n",
       "      <td>01410834873689120466741</td>\n",
       "      <td>2024-01-12</td>\n",
       "      <td>Transaccion Recibida</td>\n",
       "      <td>8832.0</td>\n",
       "      <td>17664.0</td>\n",
       "    </tr>\n",
       "    <tr>\n",
       "      <th>1</th>\n",
       "      <td>146991</td>\n",
       "      <td>01410834873689120466741</td>\n",
       "      <td>2024-01-12</td>\n",
       "      <td>Transaccion Recibida</td>\n",
       "      <td>1052.0</td>\n",
       "      <td>10936.0</td>\n",
       "    </tr>\n",
       "    <tr>\n",
       "      <th>2</th>\n",
       "      <td>146991</td>\n",
       "      <td>01410834873689120466741</td>\n",
       "      <td>2024-01-12</td>\n",
       "      <td>Transaccion Recibida</td>\n",
       "      <td>1052.0</td>\n",
       "      <td>19768.0</td>\n",
       "    </tr>\n",
       "    <tr>\n",
       "      <th>3</th>\n",
       "      <td>147092</td>\n",
       "      <td>01410834873689120466741</td>\n",
       "      <td>2024-01-12</td>\n",
       "      <td>Transaccion Recibida</td>\n",
       "      <td>123.0</td>\n",
       "      <td>19891.0</td>\n",
       "    </tr>\n",
       "    <tr>\n",
       "      <th>4</th>\n",
       "      <td>147092</td>\n",
       "      <td>01410834873689120466741</td>\n",
       "      <td>2024-01-12</td>\n",
       "      <td>Transaccion Recibida</td>\n",
       "      <td>123.0</td>\n",
       "      <td>28723.0</td>\n",
       "    </tr>\n",
       "    <tr>\n",
       "      <th>...</th>\n",
       "      <td>...</td>\n",
       "      <td>...</td>\n",
       "      <td>...</td>\n",
       "      <td>...</td>\n",
       "      <td>...</td>\n",
       "      <td>...</td>\n",
       "    </tr>\n",
       "    <tr>\n",
       "      <th>2325690</th>\n",
       "      <td>19118</td>\n",
       "      <td>0991095892006369269690</td>\n",
       "      <td>2024-04-26</td>\n",
       "      <td>Transaccion Realizada</td>\n",
       "      <td>-354.0</td>\n",
       "      <td>9909.0</td>\n",
       "    </tr>\n",
       "    <tr>\n",
       "      <th>2325691</th>\n",
       "      <td>10533</td>\n",
       "      <td>0991095892006369269690</td>\n",
       "      <td>2024-05-03</td>\n",
       "      <td>Transaccion Realizada</td>\n",
       "      <td>-764.0</td>\n",
       "      <td>10263.0</td>\n",
       "    </tr>\n",
       "    <tr>\n",
       "      <th>2325692</th>\n",
       "      <td>8614</td>\n",
       "      <td>0991095892006369269690</td>\n",
       "      <td>2024-05-04</td>\n",
       "      <td>Transaccion Realizada</td>\n",
       "      <td>-738.0</td>\n",
       "      <td>11027.0</td>\n",
       "    </tr>\n",
       "    <tr>\n",
       "      <th>2325693</th>\n",
       "      <td>3867</td>\n",
       "      <td>0991095892006369269690</td>\n",
       "      <td>2024-05-08</td>\n",
       "      <td>Transaccion Realizada</td>\n",
       "      <td>-503.0</td>\n",
       "      <td>11765.0</td>\n",
       "    </tr>\n",
       "    <tr>\n",
       "      <th>2325694</th>\n",
       "      <td>1948</td>\n",
       "      <td>09930662288269068838141</td>\n",
       "      <td>2024-05-09</td>\n",
       "      <td>Transaccion Realizada</td>\n",
       "      <td>-887.0</td>\n",
       "      <td>0.0</td>\n",
       "    </tr>\n",
       "  </tbody>\n",
       "</table>\n",
       "<p>2325695 rows × 6 columns</p>\n",
       "</div>"
      ],
      "text/plain": [
       "         operacion_id               usuario_id       fecha  \\\n",
       "0              146890  01410834873689120466741  2024-01-12   \n",
       "1              146991  01410834873689120466741  2024-01-12   \n",
       "2              146991  01410834873689120466741  2024-01-12   \n",
       "3              147092  01410834873689120466741  2024-01-12   \n",
       "4              147092  01410834873689120466741  2024-01-12   \n",
       "...               ...                      ...         ...   \n",
       "2325690         19118   0991095892006369269690  2024-04-26   \n",
       "2325691         10533   0991095892006369269690  2024-05-03   \n",
       "2325692          8614   0991095892006369269690  2024-05-04   \n",
       "2325693          3867   0991095892006369269690  2024-05-08   \n",
       "2325694          1948  09930662288269068838141  2024-05-09   \n",
       "\n",
       "                tipo_operacion   monto  saldo_resultante  \n",
       "0         Transaccion Recibida  8832.0           17664.0  \n",
       "1         Transaccion Recibida  1052.0           10936.0  \n",
       "2         Transaccion Recibida  1052.0           19768.0  \n",
       "3         Transaccion Recibida   123.0           19891.0  \n",
       "4         Transaccion Recibida   123.0           28723.0  \n",
       "...                        ...     ...               ...  \n",
       "2325690  Transaccion Realizada  -354.0            9909.0  \n",
       "2325691  Transaccion Realizada  -764.0           10263.0  \n",
       "2325692  Transaccion Realizada  -738.0           11027.0  \n",
       "2325693  Transaccion Realizada  -503.0           11765.0  \n",
       "2325694  Transaccion Realizada  -887.0               0.0  \n",
       "\n",
       "[2325695 rows x 6 columns]"
      ]
     },
     "execution_count": 448,
     "metadata": {},
     "output_type": "execute_result"
    }
   ],
   "source": [
    "q9_rec_real = q9_recibida[:-2] + \" UNION ALL \" + q9_realizada\n",
    "\n",
    "q9_rec_real_res = pd.read_sql(q9_rec_real, pg)\n",
    "q9_rec_real_res"
   ]
  },
  {
   "cell_type": "markdown",
   "metadata": {},
   "source": [
    "### 10. Calcular los intereses ganados en transacciones pagadas con tarjeta en el último mes."
   ]
  },
  {
   "cell_type": "markdown",
   "metadata": {},
   "source": [
    "#### Crear 100 pagos con tarjetas en el último mes"
   ]
  },
  {
   "cell_type": "code",
   "execution_count": 449,
   "metadata": {},
   "outputs": [
    {
     "name": "stderr",
     "output_type": "stream",
     "text": [
      "Pagos con tarjeta: 100%|██████████| 100/100 [00:00<00:00, 129.30it/s]\n"
     ]
    }
   ],
   "source": [
    "# Crear 100 pagos con tarjetas en el último mes\n",
    "\n",
    "for _ in tqdm(range(100), desc=\"Pagos con tarjeta\"):\n",
    "    \n",
    "    usr = random.choice(new_data[\"usrs\"])\n",
    "    # Crearle una tarjeta\n",
    "    num, cvv, venc = create_tarjeta(usr[0])\n",
    "\n",
    "    receiver = random.choice(new_data[\"usrs\"])\n",
    "\n",
    "    create_transaction_between_users(\n",
    "        random.randint(10, 1000),\n",
    "        \"Pago con tarjeta\",\n",
    "        sender_cu=usr[0],\n",
    "        reciever_cu=receiver[0],\n",
    "        card_number=num,\n",
    "    )\n",
    "\n",
    "\n",
    "    "
   ]
  },
  {
   "cell_type": "code",
   "execution_count": 450,
   "metadata": {},
   "outputs": [
    {
     "data": {
      "text/html": [
       "<div>\n",
       "<style scoped>\n",
       "    .dataframe tbody tr th:only-of-type {\n",
       "        vertical-align: middle;\n",
       "    }\n",
       "\n",
       "    .dataframe tbody tr th {\n",
       "        vertical-align: top;\n",
       "    }\n",
       "\n",
       "    .dataframe thead th {\n",
       "        text-align: right;\n",
       "    }\n",
       "</style>\n",
       "<table border=\"1\" class=\"dataframe\">\n",
       "  <thead>\n",
       "    <tr style=\"text-align: right;\">\n",
       "      <th></th>\n",
       "      <th>codigo</th>\n",
       "      <th>cu_origen</th>\n",
       "      <th>cu_destino</th>\n",
       "      <th>monto</th>\n",
       "      <th>fecha</th>\n",
       "      <th>descripcion</th>\n",
       "      <th>estado</th>\n",
       "      <th>es_con_tarjeta</th>\n",
       "      <th>numero</th>\n",
       "      <th>interes</th>\n",
       "    </tr>\n",
       "  </thead>\n",
       "  <tbody>\n",
       "    <tr>\n",
       "      <th>0</th>\n",
       "      <td>8</td>\n",
       "      <td>07540167981560157888921</td>\n",
       "      <td>06330592591803457621458</td>\n",
       "      <td>100.0</td>\n",
       "      <td>2007-06-04</td>\n",
       "      <td>Transferencia</td>\n",
       "      <td>Pendiente</td>\n",
       "      <td>True</td>\n",
       "      <td>2299836556547555</td>\n",
       "      <td>8.0</td>\n",
       "    </tr>\n",
       "    <tr>\n",
       "      <th>1</th>\n",
       "      <td>130</td>\n",
       "      <td>09210847975359911514519</td>\n",
       "      <td>09720405131360086746040</td>\n",
       "      <td>93.0</td>\n",
       "      <td>2024-05-10</td>\n",
       "      <td>Transferencia</td>\n",
       "      <td>Pendiente</td>\n",
       "      <td>True</td>\n",
       "      <td>3568401528671306</td>\n",
       "      <td>8.0</td>\n",
       "    </tr>\n",
       "    <tr>\n",
       "      <th>2</th>\n",
       "      <td>231</td>\n",
       "      <td>06370816771909502233968</td>\n",
       "      <td>03120931694658293099819</td>\n",
       "      <td>320.0</td>\n",
       "      <td>2024-05-10</td>\n",
       "      <td>Transferencia</td>\n",
       "      <td>Pendiente</td>\n",
       "      <td>True</td>\n",
       "      <td>6011864306770341</td>\n",
       "      <td>9.0</td>\n",
       "    </tr>\n",
       "    <tr>\n",
       "      <th>3</th>\n",
       "      <td>433</td>\n",
       "      <td>02710745449562955360970</td>\n",
       "      <td>0150040009010426801904</td>\n",
       "      <td>29.0</td>\n",
       "      <td>2024-05-10</td>\n",
       "      <td>Transferencia</td>\n",
       "      <td>Pendiente</td>\n",
       "      <td>True</td>\n",
       "      <td>4786634236121719</td>\n",
       "      <td>9.0</td>\n",
       "    </tr>\n",
       "    <tr>\n",
       "      <th>4</th>\n",
       "      <td>534</td>\n",
       "      <td>08500897673799877189177</td>\n",
       "      <td>07230350518170082261076</td>\n",
       "      <td>848.0</td>\n",
       "      <td>2024-05-10</td>\n",
       "      <td>Transferencia</td>\n",
       "      <td>Pendiente</td>\n",
       "      <td>True</td>\n",
       "      <td>2608939609561015</td>\n",
       "      <td>9.0</td>\n",
       "    </tr>\n",
       "    <tr>\n",
       "      <th>...</th>\n",
       "      <td>...</td>\n",
       "      <td>...</td>\n",
       "      <td>...</td>\n",
       "      <td>...</td>\n",
       "      <td>...</td>\n",
       "      <td>...</td>\n",
       "      <td>...</td>\n",
       "      <td>...</td>\n",
       "      <td>...</td>\n",
       "      <td>...</td>\n",
       "    </tr>\n",
       "    <tr>\n",
       "      <th>923</th>\n",
       "      <td>148010</td>\n",
       "      <td>07350629175292388824675</td>\n",
       "      <td>0870395465229504111657</td>\n",
       "      <td>68.0</td>\n",
       "      <td>2024-05-10</td>\n",
       "      <td>Pago con tarjeta</td>\n",
       "      <td>Pendiente</td>\n",
       "      <td>True</td>\n",
       "      <td>4669340648810202</td>\n",
       "      <td>7.0</td>\n",
       "    </tr>\n",
       "    <tr>\n",
       "      <th>924</th>\n",
       "      <td>148011</td>\n",
       "      <td>08790771139099958073842</td>\n",
       "      <td>08010674533801464598795</td>\n",
       "      <td>131.0</td>\n",
       "      <td>2024-05-10</td>\n",
       "      <td>Pago con tarjeta</td>\n",
       "      <td>Pendiente</td>\n",
       "      <td>True</td>\n",
       "      <td>3543338027526773</td>\n",
       "      <td>9.0</td>\n",
       "    </tr>\n",
       "    <tr>\n",
       "      <th>925</th>\n",
       "      <td>148012</td>\n",
       "      <td>0150040009010426801904</td>\n",
       "      <td>07670883704944283045955</td>\n",
       "      <td>498.0</td>\n",
       "      <td>2024-05-10</td>\n",
       "      <td>Pago con tarjeta</td>\n",
       "      <td>Pendiente</td>\n",
       "      <td>True</td>\n",
       "      <td>6011960392320817</td>\n",
       "      <td>5.0</td>\n",
       "    </tr>\n",
       "    <tr>\n",
       "      <th>926</th>\n",
       "      <td>148013</td>\n",
       "      <td>09570427235197532457626</td>\n",
       "      <td>0870395465229504111657</td>\n",
       "      <td>992.0</td>\n",
       "      <td>2024-05-10</td>\n",
       "      <td>Pago con tarjeta</td>\n",
       "      <td>Pendiente</td>\n",
       "      <td>True</td>\n",
       "      <td>342622725247207</td>\n",
       "      <td>7.0</td>\n",
       "    </tr>\n",
       "    <tr>\n",
       "      <th>927</th>\n",
       "      <td>148014</td>\n",
       "      <td>07350629175292388824675</td>\n",
       "      <td>0186082346756884415347</td>\n",
       "      <td>902.0</td>\n",
       "      <td>2024-05-10</td>\n",
       "      <td>Pago con tarjeta</td>\n",
       "      <td>Pendiente</td>\n",
       "      <td>True</td>\n",
       "      <td>213193001276290</td>\n",
       "      <td>5.0</td>\n",
       "    </tr>\n",
       "  </tbody>\n",
       "</table>\n",
       "<p>928 rows × 10 columns</p>\n",
       "</div>"
      ],
      "text/plain": [
       "     codigo                cu_origen               cu_destino  monto  \\\n",
       "0         8  07540167981560157888921  06330592591803457621458  100.0   \n",
       "1       130  09210847975359911514519  09720405131360086746040   93.0   \n",
       "2       231  06370816771909502233968  03120931694658293099819  320.0   \n",
       "3       433  02710745449562955360970   0150040009010426801904   29.0   \n",
       "4       534  08500897673799877189177  07230350518170082261076  848.0   \n",
       "..      ...                      ...                      ...    ...   \n",
       "923  148010  07350629175292388824675   0870395465229504111657   68.0   \n",
       "924  148011  08790771139099958073842  08010674533801464598795  131.0   \n",
       "925  148012   0150040009010426801904  07670883704944283045955  498.0   \n",
       "926  148013  09570427235197532457626   0870395465229504111657  992.0   \n",
       "927  148014  07350629175292388824675   0186082346756884415347  902.0   \n",
       "\n",
       "          fecha       descripcion     estado  es_con_tarjeta  \\\n",
       "0    2007-06-04     Transferencia  Pendiente            True   \n",
       "1    2024-05-10     Transferencia  Pendiente            True   \n",
       "2    2024-05-10     Transferencia  Pendiente            True   \n",
       "3    2024-05-10     Transferencia  Pendiente            True   \n",
       "4    2024-05-10     Transferencia  Pendiente            True   \n",
       "..          ...               ...        ...             ...   \n",
       "923  2024-05-10  Pago con tarjeta  Pendiente            True   \n",
       "924  2024-05-10  Pago con tarjeta  Pendiente            True   \n",
       "925  2024-05-10  Pago con tarjeta  Pendiente            True   \n",
       "926  2024-05-10  Pago con tarjeta  Pendiente            True   \n",
       "927  2024-05-10  Pago con tarjeta  Pendiente            True   \n",
       "\n",
       "               numero  interes  \n",
       "0    2299836556547555      8.0  \n",
       "1    3568401528671306      8.0  \n",
       "2    6011864306770341      9.0  \n",
       "3    4786634236121719      9.0  \n",
       "4    2608939609561015      9.0  \n",
       "..                ...      ...  \n",
       "923  4669340648810202      7.0  \n",
       "924  3543338027526773      9.0  \n",
       "925  6011960392320817      5.0  \n",
       "926   342622725247207      7.0  \n",
       "927   213193001276290      5.0  \n",
       "\n",
       "[928 rows x 10 columns]"
      ]
     },
     "execution_count": 450,
     "metadata": {},
     "output_type": "execute_result"
    }
   ],
   "source": [
    "pd.read_sql(\n",
    "    \"\"\"\n",
    "    SELECT *\n",
    "    FROM Transaccion t\n",
    "    WHERE t.es_con_tarjeta = TRUE\n",
    "    \"\"\",\n",
    "    pg,\n",
    ")"
   ]
  },
  {
   "cell_type": "code",
   "execution_count": 451,
   "metadata": {},
   "outputs": [
    {
     "data": {
      "text/html": [
       "<div>\n",
       "<style scoped>\n",
       "    .dataframe tbody tr th:only-of-type {\n",
       "        vertical-align: middle;\n",
       "    }\n",
       "\n",
       "    .dataframe tbody tr th {\n",
       "        vertical-align: top;\n",
       "    }\n",
       "\n",
       "    .dataframe thead th {\n",
       "        text-align: right;\n",
       "    }\n",
       "</style>\n",
       "<table border=\"1\" class=\"dataframe\">\n",
       "  <thead>\n",
       "    <tr style=\"text-align: right;\">\n",
       "      <th></th>\n",
       "      <th>sum</th>\n",
       "    </tr>\n",
       "  </thead>\n",
       "  <tbody>\n",
       "    <tr>\n",
       "      <th>0</th>\n",
       "      <td>1123131.0</td>\n",
       "    </tr>\n",
       "  </tbody>\n",
       "</table>\n",
       "</div>"
      ],
      "text/plain": [
       "         sum\n",
       "0  1123131.0"
      ]
     },
     "execution_count": 451,
     "metadata": {},
     "output_type": "execute_result"
    }
   ],
   "source": [
    "q10 = \"\"\"\n",
    "SELECT SUM(t.monto * t.interes)\n",
    "FROM Transaccion t\n",
    "WHERE t.es_con_tarjeta = TRUE AND t.fecha >= CURRENT_DATE - INTERVAL '1 month';\n",
    "\"\"\"\n",
    "\n",
    "q10_res = pd.read_sql(q10, pg)\n",
    "q10_res"
   ]
  },
  {
   "cell_type": "code",
   "execution_count": null,
   "metadata": {},
   "outputs": [],
   "source": []
  }
 ],
 "metadata": {
  "kernelspec": {
   "display_name": "coding",
   "language": "python",
   "name": "python3"
  },
  "language_info": {
   "codemirror_mode": {
    "name": "ipython",
    "version": 3
   },
   "file_extension": ".py",
   "mimetype": "text/x-python",
   "name": "python",
   "nbconvert_exporter": "python",
   "pygments_lexer": "ipython3",
   "version": "3.8.12"
  }
 },
 "nbformat": 4,
 "nbformat_minor": 2
}
